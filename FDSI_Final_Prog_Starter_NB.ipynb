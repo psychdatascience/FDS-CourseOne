{
 "cells": [
  {
   "cell_type": "markdown",
   "metadata": {},
   "source": [
    "## FDS I final project"
   ]
  },
  {
   "cell_type": "markdown",
   "metadata": {},
   "source": [
    "Starter notebook to simulate election results for an 11 state country that uses an electoral college system."
   ]
  },
  {
   "cell_type": "markdown",
   "metadata": {},
   "source": [
    "### Preliminary stuff"
   ]
  },
  {
   "cell_type": "markdown",
   "metadata": {},
   "source": [
    "Import the things."
   ]
  },
  {
   "cell_type": "code",
   "execution_count": null,
   "metadata": {},
   "outputs": [],
   "source": [
    "import numpy as np\n",
    "import numpy.random as rnd\n",
    "import pandas as pd\n",
    "import matplotlib.pyplot as plt\n",
    "import seaborn as sns"
   ]
  },
  {
   "cell_type": "markdown",
   "metadata": {},
   "source": [
    "Load the data:"
   ]
  },
  {
   "cell_type": "code",
   "execution_count": null,
   "metadata": {},
   "outputs": [],
   "source": [
    "state_pop = np.loadtxt('datasets/FDSI_Final_Proj_Data/statePopulations.csv', delimiter=',')\n",
    "poll_quality = np.loadtxt('datasets/FDSI_Final_Proj_Data/poll_quality.csv', delimiter=',')\n",
    "state_polls = np.loadtxt('datasets/FDSI_Final_Proj_Data/state_polls.csv', delimiter=',')"
   ]
  },
  {
   "cell_type": "markdown",
   "metadata": {},
   "source": [
    "### Explore the data"
   ]
  },
  {
   "cell_type": "markdown",
   "metadata": {},
   "source": [
    "Data just got dropped in our lap. We need to explore the data a little bit to see what we're dealing with!\n",
    "\n",
    "Before we ever start doing an \"analysis\" on data, we always – always – explore the data so we know what we're dealing with, and what further analysis can or should be done."
   ]
  },
  {
   "cell_type": "code",
   "execution_count": null,
   "metadata": {},
   "outputs": [],
   "source": [
    "print(f\"\"\"pop vector shape is {state_pop.shape}, \n",
    "and poll quality shape is {poll_quality.shape}, \n",
    "and state polls shape is {state_polls.shape}\"\"\")"
   ]
  },
  {
   "cell_type": "markdown",
   "metadata": {},
   "source": [
    "This all makes sense as we were told that there were 11 states, 7 pollsters, and there should thus be 11x7 poll results (one poll for each state from each pollster)."
   ]
  },
  {
   "cell_type": "markdown",
   "metadata": {},
   "source": [
    "Let's look at the populations."
   ]
  },
  {
   "cell_type": "code",
   "execution_count": null,
   "metadata": {},
   "outputs": [],
   "source": [
    "plt.plot(state_pop)\n",
    "plt.xlabel('State')\n",
    "plt.ylabel('Population')\n",
    "plt.show()"
   ]
  },
  {
   "cell_type": "markdown",
   "metadata": {},
   "source": [
    "So the state populations range from about 1 million to a little over 100,000 people, with the 1st, 3rd, and 4th states being the most populous."
   ]
  },
  {
   "cell_type": "markdown",
   "metadata": {},
   "source": [
    "Now let's look at the poll qualities."
   ]
  },
  {
   "cell_type": "code",
   "execution_count": null,
   "metadata": {},
   "outputs": [],
   "source": [
    "plt.plot(poll_quality)\n",
    "plt.xlabel('Poll')\n",
    "plt.ylabel('Quality')\n",
    "plt.show()"
   ]
  },
  {
   "cell_type": "markdown",
   "metadata": {},
   "source": [
    "So poll 3 looks like the best (probably done by UT pollsters), and polls 0,4,5, and 6 being of lower quality."
   ]
  },
  {
   "cell_type": "markdown",
   "metadata": {},
   "source": [
    "Now let's look at the polling results. But before we do, let's think about what we should see. The polling data from different states could be very different (just as in the U.S. this fictional country could have \"red\" and \"blue\" states or whatever). But, if the polls are at all decent, they should be *correlated* across the states. That is, if one poll finds that a state strongly favors Barnes, then another poll shouldn't show that same state strongly favoring Noble. Make sense?"
   ]
  },
  {
   "cell_type": "markdown",
   "metadata": {},
   "source": [
    "Because the polling data are in an 11 state by 7 poll matrix, we'll look at them as a heatmap – an image in which each pixel value represents the value of a single state/poll combination."
   ]
  },
  {
   "cell_type": "code",
   "execution_count": null,
   "metadata": {},
   "outputs": [],
   "source": [
    "plt.imshow(state_polls, cmap='hot')\n",
    "plt.colorbar(label=\"Polling Percentage\")\n",
    "plt.xlabel('Poll')\n",
    "plt.ylabel('State')\n",
    "plt.show()\n"
   ]
  },
  {
   "cell_type": "markdown",
   "metadata": {},
   "source": [
    "Let's look at this figure and see if it makes sense. Remember, the states can be quite different, but the polls should all reflect the same basic trend across states. And, indeed, we see that all the polls reflect state 4 going for Noble, where as state 10 seems to tilt heavily towards Barnes."
   ]
  },
  {
   "cell_type": "markdown",
   "metadata": {},
   "source": [
    "Now that we've wrapped out heads around the data and (hopefully) convinced ourselves that they pass the \"sniff test\", we can move on to the actual analysis: predicting the outcome of the election."
   ]
  },
  {
   "cell_type": "markdown",
   "metadata": {},
   "source": [
    "### Prediction"
   ]
  },
  {
   "cell_type": "markdown",
   "metadata": {},
   "source": [
    "Before we dive into coding, let's think about what we would do to make a single prediction from the data at hand. In doing that, we'll have figured out what we need to do on each simulated election in our analysis.  \n",
    "\n",
    "A reasonable approach would be to \n",
    "\n",
    "* compute a *weighted average* of the polls for each state, where the weights are the poll qualities\n",
    "* multiply the resulting average \"% for Barnes\" estimates by the state populations to get the # of predicted votes for Barnes from each state\n",
    "* compute the electoral college votes for Barnes for each state\n",
    "    - determine the states in which Barnes won\n",
    "    - get the electoral college votes for those states towards Barnes\n",
    "* sum up the electoral college votes for Barnes across the states\n",
    "* if the summed electoral college votes for Barnes is more than half of the total number, Barnes wins!"
   ]
  },
  {
   "cell_type": "markdown",
   "metadata": {},
   "source": [
    "To paint a more complete picture of the election, though (and as per the assignment), we'll also want to store some stuff in addition to whether Barnes wins or not. Like\n",
    "\n",
    "* the number of electoral college votes for Barnes\n",
    "* the number of popular (overall) votes for Barnes\n",
    "* whether or not Barnes would have won the election based on the popular vote\n",
    "\n",
    "These three items actual don't add much to what we need to do. We've already decided we need to do the first. To compute the other two, we just need to:\n",
    "\n",
    "* sum the votes from all the states to get the overall popular vote, and store it\n",
    "* see if popular vote for Barnes was over half the population, and record the result as a win or loss."
   ]
  },
  {
   "cell_type": "markdown",
   "metadata": {},
   "source": [
    "*Note*: Whether Barnes won the (electoral college) election or the popular vote can either be computed for each simulation and stored, or computed after all the simulations are done from the vote totals in each simulation. Think about it."
   ]
  },
  {
   "cell_type": "markdown",
   "metadata": {},
   "source": [
    "#### Computing the weighted averages of the polls"
   ]
  },
  {
   "cell_type": "markdown",
   "metadata": {},
   "source": [
    "Let's start with step 1, computing a weighted average for each state. There are some clever ways to do this, but we'll use an easy-to-understand `for()` loop to compute the weighted average for each state."
   ]
  },
  {
   "cell_type": "code",
   "execution_count": null,
   "metadata": {},
   "outputs": [],
   "source": [
    "# compute the average poll value for each state weighted by poll quality\n",
    "n_states = len(state_pop) # we could set this to 11, but this is more general\n",
    "weighted_polls = np.zeros(n_states) # initialize the vector for the weighted polls\n",
    "for i in range(n_states):\n",
    "    weighted_polls[i] = np.average(state_polls[i,:], weights=poll_quality)"
   ]
  },
  {
   "cell_type": "markdown",
   "metadata": {},
   "source": [
    "To see if this makes sense, let's plot the original poll values by state, and then plot the weighted averages with a different color & symbol."
   ]
  },
  {
   "cell_type": "code",
   "execution_count": null,
   "metadata": {},
   "outputs": [],
   "source": [
    "plt.plot(np.arange(11), state_polls, 'o', alpha=0.2);\n",
    "plt.plot(np.arange(11), weighted_polls, 'o-', alpha=0.8);\n",
    "plt.xlabel('State')\n",
    "plt.ylabel('Polling Percentage')\n",
    "plt.show()"
   ]
  },
  {
   "cell_type": "markdown",
   "metadata": {},
   "source": [
    "Okay, that looks reasonable. The weighted averages are always somewhere within the poll values, and state 4 has indeed gone for Noble."
   ]
  },
  {
   "cell_type": "markdown",
   "metadata": {},
   "source": [
    "#### Computing predicted votes per state"
   ]
  },
  {
   "cell_type": "markdown",
   "metadata": {},
   "source": [
    "Now let's compute the predicted votes for each state based on our weighted poll average."
   ]
  },
  {
   "cell_type": "code",
   "execution_count": null,
   "metadata": {},
   "outputs": [],
   "source": [
    "pred_vote_by_state = weighted_polls/100 * state_pop\n",
    "plt.plot(np.arange(11), pred_vote_by_state, 'o-', alpha=0.8);\n",
    "plt.xlabel('State')\n",
    "plt.ylabel('Predicted Vote')\n",
    "plt.show()"
   ]
  },
  {
   "cell_type": "markdown",
   "metadata": {},
   "source": [
    "This is a great time for another reality check of our code! Since the polling is all near 50%, the graph of predicted votes we just made should strongly resemble the plot of state populations we made earlier, just scaled down by 0.5 on the y (population) axis.\n",
    "\n",
    "Scroll back up to the population figure and see if this is true."
   ]
  },
  {
   "cell_type": "markdown",
   "metadata": {},
   "source": [
    "#### Compute the electoral college votes for Barnes"
   ]
  },
  {
   "cell_type": "markdown",
   "metadata": {},
   "source": [
    "Now we need to compute which states Barnes won, and award those electoral college votes to Barnes."
   ]
  },
  {
   "cell_type": "markdown",
   "metadata": {},
   "source": [
    "First, let's make a vector indicating how many electoral college votes each state gets:"
   ]
  },
  {
   "cell_type": "code",
   "execution_count": null,
   "metadata": {},
   "outputs": [],
   "source": [
    "ppl_per_EC_vote = 1000 # given in the problem\n",
    "EC_votes_by_state = state_pop/ppl_per_EC_vote \n",
    "EC_vote_threshold = sum(EC_votes_by_state)/2"
   ]
  },
  {
   "cell_type": "markdown",
   "metadata": {},
   "source": [
    "Then we'll compute the states won by Barnes"
   ]
  },
  {
   "cell_type": "code",
   "execution_count": null,
   "metadata": {},
   "outputs": [],
   "source": [
    "Barnes_won = pred_vote_by_state > state_pop/2 \n",
    "Barnes_won"
   ]
  },
  {
   "cell_type": "markdown",
   "metadata": {},
   "source": [
    "Next, we'll just add up the electoral college votes from all the states that Barnes won."
   ]
  },
  {
   "cell_type": "code",
   "execution_count": null,
   "metadata": {},
   "outputs": [],
   "source": [
    "EC_votes_for_Barnes = np.sum(EC_votes_by_state[Barnes_won])\n",
    "print(f\"Barnes won {EC_votes_for_Barnes} electoral college votes\")\n",
    "if EC_votes_for_Barnes > EC_vote_threshold:\n",
    "    print(\"Barnes won!\")\n",
    "else:\n",
    "    print(\"Barnes lost...\")"
   ]
  },
  {
   "cell_type": "markdown",
   "metadata": {},
   "source": [
    "#### Compute the popular vote results"
   ]
  },
  {
   "cell_type": "markdown",
   "metadata": {},
   "source": [
    "This is easy, we just sum the votes across the states."
   ]
  },
  {
   "cell_type": "code",
   "execution_count": null,
   "metadata": {},
   "outputs": [],
   "source": [
    "pred_vote = np.sum(pred_vote_by_state)"
   ]
  },
  {
   "cell_type": "markdown",
   "metadata": {},
   "source": [
    "Did Barnes win the election? All we need to determine this is to see if he won more than half of the total votes."
   ]
  },
  {
   "cell_type": "code",
   "execution_count": null,
   "metadata": {},
   "outputs": [],
   "source": [
    "Barnes_won = pred_vote > sum(state_pop)/2"
   ]
  },
  {
   "cell_type": "markdown",
   "metadata": {},
   "source": [
    "And that's it! "
   ]
  },
  {
   "cell_type": "markdown",
   "metadata": {},
   "source": [
    "### Doing the simulations"
   ]
  },
  {
   "cell_type": "markdown",
   "metadata": {},
   "source": [
    "To do the simulations, you need to bundle key parts of the above code (without the plotting and reality checking) into `for()` loop, and store the needed things.\n",
    "\n",
    "The key is adding realistic variability to the ***polling results*** for each simulation (each pass through the `for()` loop). \n",
    "\n",
    "Your new best friend is `rnd.binomial()` – remember that you know the poll sample size (2000 for every poll), and the polling result for each state-by-poll combination, so you can create a new state x poll matrix of polling data for each simulation that reflects the ***binomial*** error that is inherent in the polls.\n",
    "\n",
    "You also need to add voter turnout variability. You know the population of each state, and you know that, on average, 60% of people turn out to vote, so...\n",
    "\n",
    "Have at it!"
   ]
  },
  {
   "cell_type": "markdown",
   "metadata": {},
   "source": []
  }
 ],
 "metadata": {
  "kernelspec": {
   "display_name": "FDSI",
   "language": "python",
   "name": "python3"
  },
  "language_info": {
   "codemirror_mode": {
    "name": "ipython",
    "version": 3
   },
   "file_extension": ".py",
   "mimetype": "text/x-python",
   "name": "python",
   "nbconvert_exporter": "python",
   "pygments_lexer": "ipython3",
   "version": "3.11.5"
  }
 },
 "nbformat": 4,
 "nbformat_minor": 2
}
