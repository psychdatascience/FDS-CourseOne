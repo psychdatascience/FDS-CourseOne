{
 "cells": [
  {
   "cell_type": "markdown",
   "id": "c2cdac45",
   "metadata": {},
   "source": [
    "## FDS I Introduction"
   ]
  },
  {
   "cell_type": "markdown",
   "id": "5448901e",
   "metadata": {},
   "source": [
    "Learning Goals:\n",
    "\n",
    "* Review Anaconda installation\n",
    "* Get an overview of Jupyter and Python programming\n",
    "\n",
    "Prerequisites:\n",
    "\n",
    "* Internet access"
   ]
  },
  {
   "cell_type": "markdown",
   "id": "c1bedc3d",
   "metadata": {},
   "source": [
    "### Hello! "
   ]
  },
  {
   "cell_type": "markdown",
   "id": "aa540c3b",
   "metadata": {},
   "source": [
    "This is a short introduction for using \"Jupyter Notebook\", which is a really cool tool to explore and analyze data using Python and share your methods and findings with others – in other words, for doing data science!"
   ]
  },
  {
   "cell_type": "markdown",
   "id": "8356b231",
   "metadata": {},
   "source": [
    "### Installing some software"
   ]
  },
  {
   "cell_type": "markdown",
   "id": "d3fcf11e",
   "metadata": {},
   "source": [
    "To start off, we are going to install the Anaconda Package. Anaconda comes with a bunch of cool stuff that we won't use in this class, but that you may well use later. The reason we are installing Anaconda is that is an easy way to install Python, all the associated Python libraries we will use, and Jupyter Notebook.\n",
    "\n",
    "To install the Anaconda (Individual Edition), go here https://www.anaconda.com/products/individual and follow your nose.\n"
   ]
  },
  {
   "cell_type": "markdown",
   "id": "05c53186",
   "metadata": {},
   "source": [
    "### Starting a notebook"
   ]
  },
  {
   "cell_type": "markdown",
   "id": "f7555c13",
   "metadata": {},
   "source": [
    "Open the Anaconda-Navigator application (which was installed in the last step). You should see something like this:\n",
    "![AnacondaNavigator.png](./assets/jnb001/AnacondaNavigator.png)"
   ]
  },
  {
   "cell_type": "markdown",
   "id": "46085fae",
   "metadata": {},
   "source": [
    "Here, you can see Jupyter Notebook in the upper right (yours might be in a different spot). If the button at the bottom says \"Install\" rather than \"Launch\", go ahead and hit install. After installation, the button should turn to into a Launch button.  \\\n",
    "Go ahead and hit Launch!"
   ]
  },
  {
   "cell_type": "markdown",
   "id": "1921e608",
   "metadata": {},
   "source": [
    "After you hit the launch button (and wait a few seconds), a new tab will open in your browser (your default browser should open if it's not already). The tab should look something like this.\n",
    "![StartNewNotebook](./assets/jnb001/JupyterFileWindow.png)\n",
    "This is a file system browser that will let you navigate to an existing notebook or to open a new notebook in whatever directory you wish. It starts out showing the home directory on your computer."
   ]
  },
  {
   "cell_type": "markdown",
   "id": "89f38eed",
   "metadata": {},
   "source": [
    "In the upper right, there is a \"New\" dropdown button that will let you create a new notebook (or a new folder to hold a new notebook).\n",
    "![StartNewNotebook](./assets/jnb001/StartNewNotebook.png)\n",
    "Select Notebook: Python 3 from the dropdown menu."
   ]
  },
  {
   "cell_type": "markdown",
   "id": "56218473",
   "metadata": {},
   "source": [
    "Now you should see a new tab that has your first notebook open! ![BlankNotebook](./assets/jnb001/NewNotebook.png)\n",
    "    "
   ]
  },
  {
   "cell_type": "markdown",
   "id": "c9005fb3-d8f3-4cbb-9655-da1ed41545ad",
   "metadata": {},
   "source": [
    "One thing that is different and cool about Jupyter Notebooks is that your code, the output of your code, and descriptions of what you are doing and why are all interleaved into one human-readable document – a \"notebook\". In fact, you are looking at a notebook right now, one that has been exported to a PDF file."
   ]
  },
  {
   "cell_type": "markdown",
   "id": "41e7b14b",
   "metadata": {},
   "source": [
    "**Note**: It may seem weird that we are working in your web browser. But we are not browsing the web! Jupyter is just using your web browser as a pre-existing familiar user interface. The notebooks you create and work with are just files on your computer that are conceptually the same as a Word file, a picture, or whatever. Notebooks have the filename extension of .ipynb (rather than .docx or .jpg or .pdf, etc.)."
   ]
  },
  {
   "cell_type": "markdown",
   "id": "ae843aac",
   "metadata": {},
   "source": [
    "### Our first code!"
   ]
  },
  {
   "cell_type": "markdown",
   "id": "641f1d89",
   "metadata": {},
   "source": [
    "At the top of your new notebook, you should have a gray bar marked by `In [ ]:` to its left. This is a **code cell** which - *surprise* - is where we enter code. Try typing `print(\"hello world!\")` into it, and then hit **Shift-Return** or **Shift-Enter** to run it. You should get:"
   ]
  },
  {
   "cell_type": "code",
   "execution_count": 11,
   "id": "514d8bd8",
   "metadata": {},
   "outputs": [
    {
     "name": "stdout",
     "output_type": "stream",
     "text": [
      "Hello world!\n"
     ]
    }
   ],
   "source": [
    "print(\"Hello world!\")"
   ]
  },
  {
   "cell_type": "markdown",
   "id": "64e4759d",
   "metadata": {},
   "source": [
    "![JupyterMenuaBar](./assets/jnb001/JupyterFileWindowMenuBarZoom.png)\n",
    "\n",
    "Notice that your notebook has its own little toolbar at the top. It might be a good time to save your notebook by hitting the little disc icon. "
   ]
  },
  {
   "cell_type": "markdown",
   "id": "322dae8b",
   "metadata": {},
   "source": [
    "Also notice that when you hit Shift-Enter a new empty code cell was created below the first one, and your cursor is already in it ready to write more code!  \\\n",
    "Notice also that there is a fat green vertical bar to the left. This green bar always denotes the current cell you are editing. To change the current cell, just click the cell you want to make current, and then you can edit that cell."
   ]
  },
  {
   "cell_type": "markdown",
   "id": "5fc254ac",
   "metadata": {},
   "source": [
    "### Some preliminaries; we are going to get data-science-specific stuff we need."
   ]
  },
  {
   "cell_type": "markdown",
   "id": "8a87bbc6",
   "metadata": {},
   "source": [
    "One of the things that makes Python so awesome for data science is that has been extended with a bunch of add-ons called libraries.  \\\n",
    "Type the following two lines into your new code cell and hit Shift-Return (you can also hit the little run/play button in the notebook toolbar, but I think you'll find hitting Shift-Return easier)."
   ]
  },
  {
   "cell_type": "code",
   "execution_count": 4,
   "id": "e67b6d3b",
   "metadata": {},
   "outputs": [],
   "source": [
    "import numpy as np\n",
    "import matplotlib.pyplot as plt"
   ]
  },
  {
   "cell_type": "markdown",
   "id": "25597355",
   "metadata": {},
   "source": [
    "The nicknames after \"as\" are just to save us some typing later on. For example, to make a plot, we will be able to type `plt.plot()` instead of `matplotlib.pyplot.plot()`!  \n",
    "Libraries we will be using a lot and their traditional nicknames are:\n",
    "\n",
    "* `numpy` as `np`\n",
    "* `pandas` as `pd`\n",
    "* `matplotlib` as `mpl`\n",
    "* `matplotlib.pyplot` as `plt`\n",
    "\n",
    "As a free human being, you can use whatever nicknames you want, but it is **strongly** recommended that you stick with the traditional ones, as they have become part of the de facto Python data science community language! And for the purposes of this class, please stick to these nicknames.\n",
    "\n",
    "We will also be using the Python library called `scipy` a lot, but `scipy` is huge, so it's best not to import the whole thing but rather to import the specific submodules you need (we'll do that later on)."
   ]
  },
  {
   "cell_type": "markdown",
   "id": "0eab7229",
   "metadata": {},
   "source": [
    "### Okay, let's plot something!"
   ]
  },
  {
   "cell_type": "markdown",
   "id": "cfaad413",
   "metadata": {},
   "source": [
    "Let's type the following in and hit Shift-Enter to see how easy it is to make a simple plot:"
   ]
  },
  {
   "cell_type": "code",
   "execution_count": 5,
   "id": "a180175a",
   "metadata": {},
   "outputs": [
    {
     "data": {
      "text/plain": [
       "[<matplotlib.lines.Line2D at 0x7fd81079b5b0>]"
      ]
     },
     "execution_count": 5,
     "metadata": {},
     "output_type": "execute_result"
    },
    {
     "data": {
      "image/png": "[encoded data removed]",
      "text/plain": [
       "<Figure size 432x288 with 1 Axes>"
      ]
     },
     "metadata": {
      "needs_background": "light"
     },
     "output_type": "display_data"
    }
   ],
   "source": [
    "x = np.linspace(1, 20, 40)\n",
    "y = np.sin(x)\n",
    "plt.plot(x, y)"
   ]
  },
  {
   "cell_type": "markdown",
   "id": "cb279a6a",
   "metadata": {},
   "source": [
    "From now on, we're going to take the **Shift-Return** for granted - just do that after you finish entering anything into a cell. Also, anything that's in a gray box that runs across the page is code you should enter in your notebook:"
   ]
  },
  {
   "cell_type": "code",
   "execution_count": 6,
   "id": "abcb82a4",
   "metadata": {},
   "outputs": [
    {
     "name": "stdout",
     "output_type": "stream",
     "text": [
      "This is code you should enter and hit 'Shift-Return!'\n"
     ]
    }
   ],
   "source": [
    "print(\"This is code you should enter and hit 'Shift-Return!'\")"
   ]
  },
  {
   "cell_type": "markdown",
   "id": "a2341527",
   "metadata": {},
   "source": [
    "So let's look at the code to plot that sine wave! The first thing you probably noticed and thought was weird was the way functions are called (e.g. `np.sin()` instead of just `sin()`. In the `R` language for example, if we wanted to make a ggplot, we would `library(tidyverse)` early in our code and then, when we wanted to make our plot, we would just call the ggplot function: `ggplot(mydata, aes(...)...)`. In Python, we have to use the name of the package (library), *or the nickname we gave it*, as a prefix every time we call the function. So this:"
   ]
  },
  {
   "cell_type": "markdown",
   "id": "59b6f54b-9649-443a-bd7a-ddc8de3c1181",
   "metadata": {},
   "source": [
    "```\n",
    "import numpy\n",
    "x = linspace(1, 20, 40)\n",
    "```"
   ]
  },
  {
   "cell_type": "markdown",
   "id": "9e6d4310",
   "metadata": {},
   "source": [
    "Would give an error; Python would complain it didn't know about `linspace()`, even though `linspace()` is an actual function inside the library `numpy` and we have just imported `numpy`. Instead, we could do this:"
   ]
  },
  {
   "cell_type": "markdown",
   "id": "f4e45f97",
   "metadata": {},
   "source": [
    "```\n",
    "import numpy\n",
    "x = numpy.linspace(1, 20, 40)\n",
    "```"
   ]
  },
  {
   "cell_type": "markdown",
   "id": "29190bf8",
   "metadata": {},
   "source": [
    "which does make it clear that `linspace()` comes from `numpy`, but we could save ourselves some typing and, perhaps more importantly, space in our lines of code, by assigning the standard nickname, `np`, when we import it:"
   ]
  },
  {
   "cell_type": "markdown",
   "id": "d84510fa",
   "metadata": {},
   "source": [
    "```\n",
    "import numpy as np\n",
    "x = np.linspace(1, 20, 40)\n",
    "```"
   ]
  },
  {
   "cell_type": "markdown",
   "id": "602556c2",
   "metadata": {},
   "source": [
    "which, if we all stick to the standard nicknames, makes it clear that `linspace()` comes from `numpy` and saves us some typing and space."
   ]
  },
  {
   "cell_type": "markdown",
   "id": "9c89f9ce",
   "metadata": {},
   "source": [
    "Now let's look at all 3 lines of code (with a little tweek) and the output, and then we can see what each line does. (Go ahead and enter this code in a new cell yourself and run it – respect the gray box!)"
   ]
  },
  {
   "cell_type": "code",
   "execution_count": 13,
   "id": "b6587968",
   "metadata": {},
   "outputs": [
    {
     "data": {
      "text/plain": [
       "[<matplotlib.lines.Line2D at 0x7fd800899e20>]"
      ]
     },
     "execution_count": 13,
     "metadata": {},
     "output_type": "execute_result"
    },
    {
     "data": {
      "image/png": "[encoded data removed]",
      "text/plain": [
       "<Figure size 432x288 with 1 Axes>"
      ]
     },
     "metadata": {
      "needs_background": "light"
     },
     "output_type": "display_data"
    }
   ],
   "source": [
    "x = np.linspace(0, 20, 41)\n",
    "y = np.sin(x)\n",
    "plt.plot(x, y, 'ro-')"
   ]
  },
  {
   "cell_type": "markdown",
   "id": "38ecc3cc",
   "metadata": {},
   "source": [
    "In the first line, `np.linspace()` makes a linearly spaced set of 41 numbers running from 0 to 40. We can make the call to `np.linspace()` more clear by assigning the starting point, stopping point, and number of numbers desired to *variables*, and then using those variables as inputs to `np.linspace()`. In Python, we are allowed to assign values to multiple variables on a single line. So we'll assign a starting point, a stopping point, and a number of numbers, and then use `np.linspace()` to create that set of numbers:"
   ]
  },
  {
   "cell_type": "code",
   "execution_count": 14,
   "id": "2c7abc7f",
   "metadata": {},
   "outputs": [
    {
     "name": "stdout",
     "output_type": "stream",
     "text": [
      "[0. 1. 2. 3. 4. 5.]\n"
     ]
    }
   ],
   "source": [
    "start, stop, n = 0, 5, 6\n",
    "x2 = np.linspace(start, stop, n)\n",
    "print(x2)"
   ]
  },
  {
   "cell_type": "markdown",
   "id": "0b70ce48",
   "metadata": {},
   "source": [
    "So now it's obvious that `x = np.linspace(start, stop, n)` gives us `n` values from `start` to `stop` (inclusive), and then assigns those values to the variable on left of the equals sign. If we look back at the plot just above, we can see that the x axis runs from 0 to 20, and the plot itself has about 10 points between 0 and 5, or about 40 total (41 to be exact).  "
   ]
  },
  {
   "cell_type": "markdown",
   "id": "07ed4267-8267-4c61-a25e-bdea2c5e89f1",
   "metadata": {},
   "source": [
    "**Note if you are brand new to programming:** a *variable* is just a name for a number or set of numbers. So instead of having to remember or figure out what \"5\" is, we give it the name \"stop\" to make our lives easier."
   ]
  },
  {
   "cell_type": "markdown",
   "id": "0e7961dd",
   "metadata": {},
   "source": [
    "The line `y = np.sin(x)` is pretty self-explanatory. It takes the [sine](https://en.wikipedia.org/wiki/Sine_and_cosine) of each element of `x` and assigns them to corresponding elements of `y` (creating the variable `y` for you in the process)."
   ]
  },
  {
   "cell_type": "code",
   "execution_count": 15,
   "id": "a7ee308a",
   "metadata": {},
   "outputs": [
    {
     "name": "stdout",
     "output_type": "stream",
     "text": [
      "[ 0.          0.84147098  0.90929743  0.14112001 -0.7568025  -0.95892427]\n"
     ]
    }
   ],
   "source": [
    "y2 = np.sin(x2)\n",
    "print(y2)"
   ]
  },
  {
   "cell_type": "markdown",
   "id": "636f6e08",
   "metadata": {},
   "source": [
    "Now for the fun one. The line `plt.plot()` is the quick & easy way to make plots. In its simplest form, you just pass it `x` and `y` values and let it do its thing (like for the first figure, above). For the second plot, we also passed it a string of the form **'[color][marker][line]'** to customize the plot."
   ]
  },
  {
   "cell_type": "markdown",
   "id": "3800b156",
   "metadata": {},
   "source": [
    "Let's make another plot."
   ]
  },
  {
   "cell_type": "code",
   "execution_count": 10,
   "id": "04da6fcf",
   "metadata": {},
   "outputs": [
    {
     "data": {
      "text/plain": [
       "[<matplotlib.lines.Line2D at 0x7fd8301c9070>]"
      ]
     },
     "execution_count": 10,
     "metadata": {},
     "output_type": "execute_result"
    },
    {
     "data": {
      "image/png": "[encoded data removed]",
      "text/plain": [
       "<Figure size 432x288 with 1 Axes>"
      ]
     },
     "metadata": {
      "needs_background": "light"
     },
     "output_type": "display_data"
    }
   ],
   "source": [
    "start, stop, n = 0, 20, 41\n",
    "x = np.linspace(start, stop, n)\n",
    "y1 = np.sin(x)\n",
    "y2 = 0.3*np.random.randn(n) # Normally-distributed Gaussian noise from numpy.random (scaled down by 0.3)\n",
    "plt.plot(x, y1, 'b+:')\n",
    "plt.plot(x, y2, 'rs-')"
   ]
  },
  {
   "cell_type": "markdown",
   "id": "e0ae1139",
   "metadata": {},
   "source": [
    "Note the `# Gaussian noise...` in the 4th line. Anything after a `#` in Python is a comment, and is for human consumption only."
   ]
  },
  {
   "cell_type": "markdown",
   "id": "9cd9e851",
   "metadata": {},
   "source": [
    "Look [here](https://matplotlib.org/stable/api/_as_gen/matplotlib.pyplot.plot.html) for more of what `matplotlib.pyplot.plot()` can do!"
   ]
  },
  {
   "cell_type": "markdown",
   "id": "d0417402",
   "metadata": {},
   "source": [
    "A couple more things before we call it a day. Note that we have used `print()` a lot to examine variables. This is useful. Forget what `n` is?"
   ]
  },
  {
   "cell_type": "code",
   "execution_count": 22,
   "id": "cf33e757",
   "metadata": {},
   "outputs": [
    {
     "name": "stdout",
     "output_type": "stream",
     "text": [
      "41\n"
     ]
    }
   ],
   "source": [
    "print(n)"
   ]
  },
  {
   "cell_type": "markdown",
   "id": "18bb64b9",
   "metadata": {},
   "source": [
    "Forget what `x` is?"
   ]
  },
  {
   "cell_type": "code",
   "execution_count": 23,
   "id": "e95705b2",
   "metadata": {},
   "outputs": [
    {
     "name": "stdout",
     "output_type": "stream",
     "text": [
      "[ 0.   0.5  1.   1.5  2.   2.5  3.   3.5  4.   4.5  5.   5.5  6.   6.5\n",
      "  7.   7.5  8.   8.5  9.   9.5 10.  10.5 11.  11.5 12.  12.5 13.  13.5\n",
      " 14.  14.5 15.  15.5 16.  16.5 17.  17.5 18.  18.5 19.  19.5 20. ]\n"
     ]
    }
   ],
   "source": [
    "print(x)"
   ]
  },
  {
   "cell_type": "markdown",
   "id": "64d7884e",
   "metadata": {},
   "source": [
    "That's fine, but could get cumbersome if `x` was large. So maybe we could just peek at the first, say, 5 values. We can. In fact, we can peek at any contiguous subset of values easily by *indexing* into `x`. For example:"
   ]
  },
  {
   "cell_type": "code",
   "execution_count": 16,
   "id": "279850dd",
   "metadata": {},
   "outputs": [
    {
     "name": "stdout",
     "output_type": "stream",
     "text": [
      "[0.  0.5 1.  1.5 2. ]\n"
     ]
    }
   ],
   "source": [
    "print(x[0:5]) # print the first 5 elements"
   ]
  },
  {
   "cell_type": "code",
   "execution_count": 21,
   "id": "c959407d",
   "metadata": {},
   "outputs": [
    {
     "name": "stdout",
     "output_type": "stream",
     "text": [
      "[18.  18.5 19.  19.5 20. ]\n"
     ]
    }
   ],
   "source": [
    "print(x[-5:]) # print the last 5"
   ]
  },
  {
   "cell_type": "code",
   "execution_count": 24,
   "id": "6f2fe98b",
   "metadata": {},
   "outputs": [
    {
     "name": "stdout",
     "output_type": "stream",
     "text": [
      "[2.5 3.  3.5 4.  4.5]\n"
     ]
    }
   ],
   "source": [
    "print(x[5:10]) # print the 6th through 10th"
   ]
  },
  {
   "cell_type": "markdown",
   "id": "cf586510",
   "metadata": {},
   "source": [
    "Note that these things are \"**zero based**\". That is, Python starts counting the first element in a vector or array using element number zero:"
   ]
  },
  {
   "cell_type": "code",
   "execution_count": 25,
   "id": "0c577027",
   "metadata": {},
   "outputs": [
    {
     "name": "stdout",
     "output_type": "stream",
     "text": [
      "0.0\n"
     ]
    }
   ],
   "source": [
    "print(x[0]) # the first number"
   ]
  },
  {
   "cell_type": "code",
   "execution_count": 26,
   "id": "e3eb5e44",
   "metadata": {},
   "outputs": [
    {
     "name": "stdout",
     "output_type": "stream",
     "text": [
      "0.5\n"
     ]
    }
   ],
   "source": [
    "print(x[1]) # the second number"
   ]
  },
  {
   "cell_type": "markdown",
   "id": "59d4dbe6",
   "metadata": {},
   "source": [
    "We can also just plot `x` – this will plot the value of `x` against the index of each element:"
   ]
  },
  {
   "cell_type": "code",
   "execution_count": 20,
   "id": "3a31d933",
   "metadata": {},
   "outputs": [
    {
     "data": {
      "text/plain": [
       "[<matplotlib.lines.Line2D at 0x7fd8621b6fa0>]"
      ]
     },
     "execution_count": 20,
     "metadata": {},
     "output_type": "execute_result"
    },
    {
     "data": {
      "image/png": "[encoded data removed]",
      "text/plain": [
       "<Figure size 432x288 with 1 Axes>"
      ]
     },
     "metadata": {
      "needs_background": "light"
     },
     "output_type": "display_data"
    }
   ],
   "source": [
    "plt.plot(x, 'ro-')"
   ]
  },
  {
   "cell_type": "markdown",
   "id": "86620b34",
   "metadata": {},
   "source": [
    "But what if we have now forgotten what all variables we have created so far? We can take a quick look this way:"
   ]
  },
  {
   "cell_type": "code",
   "execution_count": 17,
   "id": "0e3ccc9d",
   "metadata": {},
   "outputs": [
    {
     "name": "stdout",
     "output_type": "stream",
     "text": [
      "n\t np\t plt\t start\t stop\t x\t x2\t y\t y1\t \n",
      "y2\t \n"
     ]
    }
   ],
   "source": [
    "%who"
   ]
  },
  {
   "cell_type": "markdown",
   "id": "c4a8bd0f",
   "metadata": {},
   "source": [
    "Or we can take a more comprehensive look like this:"
   ]
  },
  {
   "cell_type": "code",
   "execution_count": 18,
   "id": "dd265de1",
   "metadata": {},
   "outputs": [
    {
     "name": "stdout",
     "output_type": "stream",
     "text": [
      "Variable   Type       Data/Info\n",
      "-------------------------------\n",
      "n          int        41\n",
      "np         module     <module 'numpy' from '/Us<...>kages/numpy/__init__.py'>\n",
      "plt        module     <module 'matplotlib.pyplo<...>es/matplotlib/pyplot.py'>\n",
      "start      int        0\n",
      "stop       int        20\n",
      "x          ndarray    41: 41 elems, type `float64`, 328 bytes\n",
      "x2         ndarray    6: 6 elems, type `float64`, 48 bytes\n",
      "y          ndarray    41: 41 elems, type `float64`, 328 bytes\n",
      "y1         ndarray    41: 41 elems, type `float64`, 328 bytes\n",
      "y2         ndarray    41: 41 elems, type `float64`, 328 bytes\n"
     ]
    }
   ],
   "source": [
    "%whos"
   ]
  },
  {
   "cell_type": "markdown",
   "id": "25f36017",
   "metadata": {},
   "source": [
    "Note that this note only gives us information about our variables, but also tells us which modules we have imported (`np = numpy` and `plt = matplotlib.pyplot`)."
   ]
  }
 ],
 "metadata": {
  "kernelspec": {
   "display_name": "Python 3 (ipykernel)",
   "language": "python",
   "name": "python3"
  },
  "language_info": {
   "codemirror_mode": {
    "name": "ipython",
    "version": 3
   },
   "file_extension": ".py",
   "mimetype": "text/x-python",
   "name": "python",
   "nbconvert_exporter": "python",
   "pygments_lexer": "ipython3",
   "version": "3.10.6"
  }
 },
 "nbformat": 4,
 "nbformat_minor": 5
}
