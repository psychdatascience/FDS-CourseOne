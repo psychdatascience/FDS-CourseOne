{
 "cells": [
  {
   "cell_type": "markdown",
   "id": "8b1397fb",
   "metadata": {},
   "source": [
    "# Basic plotting with matplotlib.pyplot"
   ]
  },
  {
   "cell_type": "markdown",
   "id": "c46f0da5",
   "metadata": {},
   "source": [
    "## Learning goals\n",
    "\n",
    "* to understand the anatomy of a matplotlib plot\n",
    "* to learn how to make plot using\n",
    "    - the pyplot interface\n",
    "    - the \"object oriented\" method\n",
    "* to use plotting themes\n",
    "* to learn how to construct multi-panel figures"
   ]
  },
  {
   "cell_type": "markdown",
   "id": "d82498e7",
   "metadata": {},
   "source": [
    "## The anatomy of a plot\n",
    "\n",
    "The basic anatomy of a plot is shown below.\n",
    "<img src=\"./assets/jnb015/pltFigureAnatomy.png\" alt=\"Drawing\" style=\"width: 400px;\"/>\n",
    "It consists of two key pieces: \n",
    "\n",
    "* the ***figure*** \n",
    "* and one or more ***axes***\n",
    "\n",
    "The ***figure*** is like a piece of paper or your canvas. An ***axes*** is an area on the ***figure*** in which you will do your actual plotting.\n",
    "\n",
    "Confusingly, once we have made a plot in our ***axes***, our ***axes*** will now have at least one ***axis*** thingie on it – so, in the land of `matplotlib`, \"axes\" is **not** the plural of \"axis\"! Rather...\n",
    "\n",
    "An **axes** is a part of a **figure** that contains one or more **axis** lines, as well as other things such as a title, x- and y-axis labels, and one or more plots of data. \n",
    "\n",
    "Happily, we do all of our plotting and formatting by working with our ***axes***, we just have to make sure that when we say \"axes\", we mean \"a plotting area on our figure\" rather than \"a bunch of 'axises' or 'axi' or whatever.\"\n",
    "\n",
    "To avoid confusion, we'll refer to an **axes** as an **axes panel** from here on out."
   ]
  },
  {
   "cell_type": "markdown",
   "id": "51641ddf",
   "metadata": {},
   "source": [
    "## Ways to make plots using matplotlib"
   ]
  },
  {
   "cell_type": "markdown",
   "id": "f655d77b",
   "metadata": {},
   "source": [
    "There are two main ways to make plots in matplotlib (not counting seaborn - we'll revisit seaborn later on). The two main ways are:\n",
    "\n",
    "* using the `pyplot` interface \n",
    "* using the \"object oriented\" interface\n",
    "\n",
    "The pyplot interface is the one in which we `import matlibplot.pyplot as plt` and the use the `plt.plot()` command (which I like to pronounce \"plit dot plot\") to do our plotting. The `plt.plot()` automatically creates a **figure** and **axes panel** for us when we start plotting. For simple plots, we don't even have to know that there is an official thing called a \"figure\" and a another official thing called an \"axes\", we just start plotting!\n",
    "\n",
    "In the object-oriented way, we create a **figure** and one or more **axes** (axes panels) explicitly, and then we use the methods (functions) associated with those objects to do our plotting and formatting. (This will make more sense when we do some examples.) \n",
    "\n",
    "The fact that there are these two different ways to plot can make search results or StackExchange conversations confusing! So we'll go through these in turn, doing the same thing using two different methods."
   ]
  },
  {
   "cell_type": "markdown",
   "id": "188db8e6",
   "metadata": {},
   "source": [
    "## Plotting using pyplot"
   ]
  },
  {
   "cell_type": "markdown",
   "id": "e483f1a2",
   "metadata": {},
   "source": [
    "Let's make a plot! The steps are simple. We'll:\n",
    "\n",
    "* import pyplot\n",
    "* make some data to plot\n",
    "* plot the data!"
   ]
  },
  {
   "cell_type": "code",
   "execution_count": null,
   "id": "87a672e9",
   "metadata": {},
   "outputs": [],
   "source": [
    "import matplotlib.pyplot as plt\n",
    "\n",
    "my_x_vals = [0, 1, 2, 3, 4]\n",
    "my_y_vals = [0, 1, 4, 9, 16]\n",
    "\n",
    "plt.plot(my_x_vals, my_y_vals);"
   ]
  },
  {
   "cell_type": "markdown",
   "id": "027dac23",
   "metadata": {},
   "source": [
    "Yay! What `plt.plot()` has done for us here is \n",
    "\n",
    "1. created a ***figure***\n",
    "2. created a single ***axes panel*** on that figure\n",
    "3. made both an x- and a y-axis (with tick marks) on the ***axes panel***\n",
    "4. added x and y tick labels adjacent to each axis (on the ***axes panel***)\n",
    "5. finally, plotted the data using the default line style and color (on the ***axes panel***)"
   ]
  },
  {
   "cell_type": "markdown",
   "id": "bacfa4ba",
   "metadata": {},
   "source": [
    "### Adding axis labels and titles"
   ]
  },
  {
   "cell_type": "markdown",
   "id": "69da9d99",
   "metadata": {},
   "source": [
    "Some common things we want to add are labels for the x- and y-axis, and a title for our plot. Handely, `pyplot` has functions for all of these. They are:\n",
    "\n",
    "* `xlabel()`\n",
    "* `ylabel()`\n",
    "* `title()`"
   ]
  },
  {
   "cell_type": "code",
   "execution_count": null,
   "id": "aabed8ab",
   "metadata": {},
   "outputs": [],
   "source": [
    "plt.plot(my_x_vals, my_y_vals);\n",
    "plt.xlabel('I\\'m an x_label next to an axis on an axes panel on a figure!');\n",
    "plt.ylabel('And I am a y_label on...');\n",
    "plt.title('I\\'m a title on an axes panel on a figure!');"
   ]
  },
  {
   "cell_type": "markdown",
   "id": "f7319bf5",
   "metadata": {},
   "source": [
    "---"
   ]
  },
  {
   "cell_type": "markdown",
   "id": "4d4e2c3c",
   "metadata": {},
   "source": [
    "Side note: Hey, what's up with the backslash inside the xlabel and title? In python, `strings` are defined by either single or double quotes. Like this:"
   ]
  },
  {
   "cell_type": "code",
   "execution_count": null,
   "id": "f80edb95",
   "metadata": {},
   "outputs": [],
   "source": [
    "print('I am a string!')"
   ]
  },
  {
   "cell_type": "code",
   "execution_count": null,
   "id": "191fede4",
   "metadata": {},
   "outputs": [],
   "source": [
    "print(\"I am too!\")"
   ]
  },
  {
   "cell_type": "markdown",
   "id": "ac0e5ae6",
   "metadata": {},
   "source": [
    "But what happens when you want an apostophe (half a single quote) to be part of your string? This won't work:"
   ]
  },
  {
   "cell_type": "code",
   "execution_count": null,
   "id": "a8edea8b",
   "metadata": {},
   "outputs": [],
   "source": [
    "print('I'm a broken string')"
   ]
  },
  {
   "cell_type": "markdown",
   "id": "fdb8f5e7",
   "metadata": {},
   "source": [
    "So Python (and all programming languages) provide an \"escape character\" that says \"the thing right after me is part of the string!\" So if we want to have our apostrophe be part of the sting, we \"escape\" it with the escape character \"\\\" (the backslash). So this works:"
   ]
  },
  {
   "cell_type": "code",
   "execution_count": null,
   "id": "81ec0772",
   "metadata": {},
   "outputs": [],
   "source": [
    "print('I\\'m a fixed string!')"
   ]
  },
  {
   "cell_type": "markdown",
   "id": "259f1fd0",
   "metadata": {},
   "source": [
    "---"
   ]
  },
  {
   "cell_type": "markdown",
   "id": "7c50bec8",
   "metadata": {},
   "source": [
    "The label and title commands allow us to specify the font size as well (**Pro tip**: Unless you are plotting just for yourself, you almost always have to make the font sizes larger than the default!)"
   ]
  },
  {
   "cell_type": "code",
   "execution_count": null,
   "id": "0806e72f",
   "metadata": {
    "scrolled": true
   },
   "outputs": [],
   "source": [
    "plt.plot(my_x_vals, my_y_vals);\n",
    "plt.xlabel('I\\'m an x_label', fontsize = 18);\n",
    "plt.ylabel('I am a y_label', fontsize = 18);\n",
    "plt.title('I\\'m a title!', fontsize = 24);"
   ]
  },
  {
   "cell_type": "markdown",
   "id": "67cbd2ca",
   "metadata": {},
   "source": [
    "Each of these also allows you to do *italics* if you wish."
   ]
  },
  {
   "cell_type": "code",
   "execution_count": null,
   "id": "742d2fc5",
   "metadata": {},
   "outputs": [],
   "source": [
    "plt.plot(my_x_vals, my_y_vals);\n",
    "plt.xlabel('I\\'m an x_label', fontsize = 18);\n",
    "plt.ylabel('I am a y_label', fontsize = 18);\n",
    "plt.title('I\\'m a title!', fontsize = 24, fontstyle = 'italic');"
   ]
  },
  {
   "cell_type": "markdown",
   "id": "80cf313d",
   "metadata": {},
   "source": [
    "### Multiple plots on an axes panel"
   ]
  },
  {
   "cell_type": "markdown",
   "id": "5b8cfb1b",
   "metadata": {},
   "source": [
    "If we wish to plot multiple things, `plt.plot()` will change the colors for us automatically."
   ]
  },
  {
   "cell_type": "code",
   "execution_count": null,
   "id": "3f79c9d0",
   "metadata": {},
   "outputs": [],
   "source": [
    "import numpy as np # so we can make different y data more easily\n",
    "\n",
    "my_x = np.array([0, 1, 2, 3, 4])\n",
    "y_lin = my_x\n",
    "y_quad = my_x**2  # ** is Python for exponentiation\n",
    "y_cube = my_x**3\n",
    "\n",
    "plt.plot(my_x, y_lin);\n",
    "plt.plot(my_x, y_quad);\n",
    "plt.plot(my_x, y_cube);"
   ]
  },
  {
   "cell_type": "markdown",
   "id": "3006b760",
   "metadata": {},
   "source": [
    "### Legends"
   ]
  },
  {
   "cell_type": "markdown",
   "id": "552921de",
   "metadata": {},
   "source": [
    "Crucially, we can give each plot a **label** so that we can add a **legend**."
   ]
  },
  {
   "cell_type": "code",
   "execution_count": null,
   "id": "53d2cc38",
   "metadata": {},
   "outputs": [],
   "source": [
    "plt.plot(my_x, y_lin, label = 'linear');\n",
    "plt.plot(my_x, y_quad, label = 'quadratic');\n",
    "plt.plot(my_x, y_cube, label = 'cubic');\n",
    "\n",
    "plt.xlabel('x', fontsize = 18);\n",
    "plt.ylabel('f(x)', fontsize = 18);\n",
    "plt.title('Polynomials', fontsize = 20,);\n",
    "\n",
    "plt.legend();"
   ]
  },
  {
   "cell_type": "markdown",
   "id": "1a3797e1",
   "metadata": {},
   "source": [
    "You can change the font size for the legend just like you do the title, etc. You can also specify the location of the legend with the `loc=` parameter. The default is 'best'."
   ]
  },
  {
   "cell_type": "code",
   "execution_count": null,
   "id": "30488e44",
   "metadata": {},
   "outputs": [],
   "source": [
    "plt.plot(my_x, y_lin, label = 'linear');\n",
    "plt.plot(my_x, y_quad, label = 'quadratic');\n",
    "plt.plot(my_x, y_cube, label = 'cubic');\n",
    "\n",
    "plt.xlabel('x', fontsize = 18);\n",
    "plt.ylabel('f(x)', fontsize = 18);\n",
    "plt.title('Polynomials', fontsize = 20,);\n",
    "\n",
    "plt.legend(loc = 'upper left', fontsize = 16);"
   ]
  },
  {
   "cell_type": "markdown",
   "id": "0d835414",
   "metadata": {},
   "source": [
    "Let's take minute to try and guess what some different allowed locations are!"
   ]
  },
  {
   "cell_type": "code",
   "execution_count": null,
   "id": "be2dd321",
   "metadata": {},
   "outputs": [],
   "source": [
    "plt.plot(my_x, y_lin, label = 'linear');\n",
    "plt.plot(my_x, y_quad, label = 'quadratic');\n",
    "plt.plot(my_x, y_cube, label = 'cubic');\n",
    "\n",
    "plt.xlabel('x', fontsize = 18);\n",
    "plt.ylabel('f(x)', fontsize = 18);\n",
    "plt.title('Polynomials', fontsize = 20,);"
   ]
  },
  {
   "cell_type": "markdown",
   "id": "a66bddf2",
   "metadata": {},
   "source": [
    "If we want even finer control over legend position (if, for example, we wanted to move the legend outside the axis limits), we can specify the position \"manually\". To do this, we will need to set the property `bbox_to_anchor` instead of `loc`. \n",
    "\n",
    "Let's try it:"
   ]
  },
  {
   "cell_type": "code",
   "execution_count": null,
   "id": "200abb0d",
   "metadata": {},
   "outputs": [],
   "source": [
    "plt.plot(my_x, y_lin, label = 'linear');\n",
    "plt.plot(my_x, y_quad, label = 'quadratic');\n",
    "plt.plot(my_x, y_cube, label = 'cubic');\n",
    "\n",
    "plt.xlabel('x', fontsize = 18);\n",
    "plt.ylabel('f(x)', fontsize = 18);\n",
    "plt.title('Polynomials', fontsize = 20,);\n",
    "\n",
    "plt.legend(bbox_to_anchor =(1.0, 0.37), fontsize = 16);"
   ]
  },
  {
   "cell_type": "markdown",
   "id": "04d93df1",
   "metadata": {},
   "source": [
    "---"
   ]
  },
  {
   "cell_type": "markdown",
   "id": "12c0a7a4",
   "metadata": {},
   "source": [
    "### Adjusting colors, markers, and line styles"
   ]
  },
  {
   "cell_type": "markdown",
   "id": "56b60335",
   "metadata": {},
   "source": [
    "We can also specify \"by hand\" what the *colors*, *lines*, and data point *markers* look like by adding a `string` containing a code for each. The `string` has to come right after the data. Like this:"
   ]
  },
  {
   "cell_type": "code",
   "execution_count": null,
   "id": "d9e19e84",
   "metadata": {},
   "outputs": [],
   "source": [
    "plt.plot(my_x, y_lin, '-ro', label = 'linear'); # note the cryptic string in the middle!\n",
    "plt.plot(my_x, y_quad, ':ks', label = 'quadratic');\n",
    "plt.plot(my_x, y_cube, '--m^', label = 'cubic');"
   ]
  },
  {
   "cell_type": "markdown",
   "id": "7c9c588a",
   "metadata": {},
   "source": [
    "There are just 4 linestyles, the three above and '-.' For reference, they are:\n",
    "\n",
    "| code | line style\n",
    "| :---   | --- |\n",
    "| -    | solid  |\n",
    "| --   | dashed  |\n",
    "| :    | dotted  |\n",
    "| -.   | dot-dash  |\n",
    "\n",
    "The common colors that are available are:\n",
    "\n",
    "| code | line style\n",
    "| :---   | --- |\n",
    "| r    | red  |\n",
    "| g   | green  |\n",
    "| b    | blue  |\n",
    "| k   | black  |\n",
    "| y   | yellow  |\n",
    "| m    | majenta  |\n",
    "| c   | cyan  |\n",
    "\n",
    "There may be others...\n",
    "\n",
    "Some common markers are:\n",
    "\n",
    "| code | line style\n",
    "| :---   | --- |\n",
    "| o    | circle  |\n",
    "| .   | point  |\n",
    "| s    | square  |\n",
    "| d   | diamond  |\n",
    "| ^, >, <, v   | triangles  |\n",
    "\n",
    "There are a few others, which you can find [here](https://www.mathworks.com/help/matlab/creating_plots/specify-line-and-marker-appearance-in-plots.html)."
   ]
  },
  {
   "cell_type": "markdown",
   "id": "4d822f12",
   "metadata": {},
   "source": [
    "### Plot styles"
   ]
  },
  {
   "cell_type": "markdown",
   "id": "95120b76",
   "metadata": {},
   "source": [
    "`pyplot` offers several built-in styles that allow you to change the overall appearance – the look and feel – of your plots. We set these with the `plt.style.use()` function:"
   ]
  },
  {
   "cell_type": "code",
   "execution_count": null,
   "id": "b38af1c2",
   "metadata": {
    "scrolled": true
   },
   "outputs": [],
   "source": [
    "plt.style.use('fivethirtyeight') # set style to Nate Silver's\n",
    "\n",
    "plt.plot(my_x, y_lin, label = 'linear');\n",
    "plt.plot(my_x, y_quad, label = 'quadratic');\n",
    "plt.plot(my_x, y_cube, label = 'cubic');\n",
    "\n",
    "plt.xlabel('x', fontsize = 18);\n",
    "plt.ylabel('f(x)', fontsize = 18);\n",
    "plt.title('Polynomials', fontsize = 20,);\n",
    "\n",
    "plt.legend(); "
   ]
  },
  {
   "cell_type": "markdown",
   "id": "6e01b876",
   "metadata": {},
   "source": [
    "#### Nice!!"
   ]
  },
  {
   "cell_type": "markdown",
   "id": "a02fe3f7",
   "metadata": {},
   "source": [
    "You can see what styles are available like this:"
   ]
  },
  {
   "cell_type": "code",
   "execution_count": null,
   "id": "8f01d438",
   "metadata": {},
   "outputs": [],
   "source": [
    "plt.style.available"
   ]
  },
  {
   "cell_type": "markdown",
   "id": "3417da05",
   "metadata": {},
   "source": [
    "And you can see what each one looks like [here](https://www.dunderdata.com/blog/view-all-available-matplotlib-styles)."
   ]
  },
  {
   "cell_type": "markdown",
   "id": "113c79de",
   "metadata": {},
   "source": [
    "You can always go back to the default style by specifying `default`, like this:"
   ]
  },
  {
   "cell_type": "code",
   "execution_count": null,
   "id": "f479c183",
   "metadata": {},
   "outputs": [],
   "source": [
    "plt.style.use('default') # back to default, please"
   ]
  },
  {
   "cell_type": "markdown",
   "id": "9ef91e6b",
   "metadata": {},
   "source": [
    "### Figures with multiple axis panels"
   ]
  },
  {
   "cell_type": "markdown",
   "id": "a687fca6",
   "metadata": {},
   "source": [
    "If you open any paper, book, or website, you will see figures with multiple panels showing different but related things. In `pyplot`, this is accomplished with `plt.subplot()`. "
   ]
  },
  {
   "cell_type": "markdown",
   "id": "4ba48e78",
   "metadata": {},
   "source": [
    "(Let's remake the polynomial so they look more interesting.)"
   ]
  },
  {
   "cell_type": "code",
   "execution_count": null,
   "id": "787da13f",
   "metadata": {},
   "outputs": [],
   "source": [
    "import numpy as np # so we can make different y data more easily\n",
    "\n",
    "my_x = np.array([-4, -3, -2, -1, 0, 1, 2, 3, 4])\n",
    "y_lin = my_x\n",
    "y_quad = my_x**2  # ** is Python for exponentiation\n",
    "y_cube = my_x**3"
   ]
  },
  {
   "cell_type": "markdown",
   "id": "b15ada41",
   "metadata": {},
   "source": [
    "Now we'll plot our polynomials in separate panels. We'll start with just one."
   ]
  },
  {
   "cell_type": "code",
   "execution_count": null,
   "id": "aad13455",
   "metadata": {
    "scrolled": false
   },
   "outputs": [],
   "source": [
    "plt.subplot(131)\n",
    "plt.plot(my_x, y_lin, label = 'linear');"
   ]
  },
  {
   "cell_type": "markdown",
   "id": "87901f5c",
   "metadata": {},
   "source": [
    "I know it looks funny, but hang on. What happened is that `plt.subplot(131)` made a figure for us. Then, the `131` told it to divide the figure into 1 row by 3 columns of axes panels, and make the 1st axes panel the \"active\" one. \n",
    "\n",
    "So the three numbers are (\"how many rows\"   \"how many columns\"   \"which one to plot in\").\n"
   ]
  },
  {
   "cell_type": "markdown",
   "id": "e1911416",
   "metadata": {},
   "source": [
    "So now let's plot all three of our polynomials."
   ]
  },
  {
   "cell_type": "code",
   "execution_count": null,
   "id": "f3a574b6",
   "metadata": {},
   "outputs": [],
   "source": [
    "plt.style.use('default')\n",
    "\n",
    "plt.subplot(131)    # make the first (left hand) axes panel the active one\n",
    "plt.plot(my_x, y_lin, label = 'linear');\n",
    "#plt.axis('square')\n",
    "\n",
    "plt.subplot(132)    # make the second panel active\n",
    "plt.plot(my_x, y_quad, label = 'quadratic');\n",
    "#plt.axis('square')\n",
    "\n",
    "plt.subplot(133)   # make the third panel active\n",
    "plt.plot(my_x, y_cube, label = 'cubic');\n",
    "#plt.axis('square')"
   ]
  },
  {
   "cell_type": "markdown",
   "id": "d26499b2",
   "metadata": {},
   "source": [
    "It still looks funny – the panels are tall and skinny and figure only takes up part of the page horizontally. This is because some default figure size is being used. But fear not! We can explicitly make a the figure and set its size (in inches) ourselves with the `plt.figure()` command. This way we can make our figure have a rational size and aspect ratio for whatever we're trying to plot. So this time, let's make a figure that's 9\"x3\" for our plotting."
   ]
  },
  {
   "cell_type": "code",
   "execution_count": null,
   "id": "3065dd23",
   "metadata": {},
   "outputs": [],
   "source": [
    "plt.style.use('default')\n",
    "\n",
    "plt.figure(figsize=(9, 3))  # make a wide, short figure\n",
    "\n",
    "plt.subplot(131)\n",
    "plt.plot(my_x, y_lin, label = 'linear');\n",
    "\n",
    "plt.subplot(132)\n",
    "plt.plot(my_x, y_quad, label = 'quadratic');\n",
    "\n",
    "plt.subplot(133)\n",
    "plt.plot(my_x, y_cube, label = 'cubic');"
   ]
  },
  {
   "cell_type": "markdown",
   "id": "c4f2481b",
   "metadata": {},
   "source": [
    "**Ah, much better!** \n",
    "\n",
    "One thing that might be a little annoying is that everything else in Python has the row (height) come first, but here we specify the width first in the `figsize` argument. The size argument is this way because that's how it works in the printing world (e.g. 8 1/2\" by 11\" paper). Oh well, we'll deal."
   ]
  },
  {
   "cell_type": "markdown",
   "id": "dc39621f",
   "metadata": {},
   "source": [
    "While each plot is active, we can take the opportunity to add axis labels and titles:"
   ]
  },
  {
   "cell_type": "code",
   "execution_count": null,
   "id": "1d2013d0",
   "metadata": {},
   "outputs": [],
   "source": [
    "plt.style.use('default')\n",
    "\n",
    "plt.figure(figsize=(9, 3))\n",
    "\n",
    "plt.subplot(131)                          # make the first plot active\n",
    "plt.plot(my_x, y_lin, label = 'linear');  # do the actual plotting\n",
    "plt.xlabel('x', fontsize = 18);           # and while the plot is active\n",
    "plt.ylabel('x', fontsize = 18);           # make it fancy like\n",
    "plt.title('Linear', fontsize = 20,);\n",
    "\n",
    "plt.subplot(132)\n",
    "plt.plot(my_x, y_quad, label = 'quadratic');\n",
    "plt.xlabel('x', fontsize = 18);\n",
    "plt.ylabel('x squared', fontsize = 18);\n",
    "plt.title('Quadradic', fontsize = 20,);\n",
    "\n",
    "plt.subplot(133)\n",
    "plt.plot(my_x, y_cube, label = 'cubic');\n",
    "plt.xlabel('x', fontsize = 18);\n",
    "plt.ylabel('x cubed', fontsize = 18);\n",
    "plt.title('Cubic', fontsize = 20,);"
   ]
  },
  {
   "cell_type": "markdown",
   "id": "37ee8c4b",
   "metadata": {},
   "source": [
    "Okay, all good, right? Oh... wait... our y axis labels are weird, like there's not enough room in the figure to spread the axes panels out. We could play around with making the figure wider, but there is also a function, `plt.tight_layout()` which attempts to arrange everything for us with no weird clipping or overlapping. So let's try the exact same code with that at the end:"
   ]
  },
  {
   "cell_type": "code",
   "execution_count": null,
   "id": "2cf38001",
   "metadata": {},
   "outputs": [],
   "source": [
    "plt.style.use('default')\n",
    "\n",
    "plt.figure(figsize=(9, 3))\n",
    "\n",
    "plt.subplot(131)                          # make the first plot active\n",
    "plt.plot(my_x, y_lin, label = 'linear');  # do the actual plotting\n",
    "plt.xlabel('x', fontsize = 18);           # and while the plot is active\n",
    "plt.ylabel('x', fontsize = 18);\n",
    "plt.title('Linear', fontsize = 20,);\n",
    "\n",
    "plt.subplot(132)\n",
    "plt.plot(my_x, y_quad, label = 'quadratic');\n",
    "plt.xlabel('x', fontsize = 18);\n",
    "plt.ylabel('x squared', fontsize = 18);\n",
    "plt.title('Quadradic', fontsize = 20,);\n",
    "\n",
    "plt.subplot(133)\n",
    "plt.plot(my_x, y_cube, label = 'cubic');\n",
    "plt.xlabel('x', fontsize = 18);\n",
    "plt.ylabel('x cubed', fontsize = 18);\n",
    "plt.title('Cubic', fontsize = 20,);\n",
    "\n",
    "plt.tight_layout()"
   ]
  },
  {
   "cell_type": "markdown",
   "id": "35d5d838",
   "metadata": {},
   "source": [
    "**Sweet!**"
   ]
  },
  {
   "cell_type": "markdown",
   "id": "77da4f6e",
   "metadata": {},
   "source": [
    "Finally, the subplots – the axes panels – are numbered \"row wise\", i.e. left-to-right, top to bottom. So if we wanted to write a self-contained piece of code plot four polynomials in a 2x2 grid, it would look like this:"
   ]
  },
  {
   "cell_type": "code",
   "execution_count": null,
   "id": "398f5ec5",
   "metadata": {},
   "outputs": [],
   "source": [
    "# make sure we have our tools\n",
    "import numpy as np                 \n",
    "import matplotlib.pyplot as plt \n",
    "\n",
    "# compute our polynomials\n",
    "my_x = np.array([-4, -3, -2, -1, 0, 1, 2, 3, 4])\n",
    "y_lin = my_x\n",
    "y_quad = my_x**2  # ** is Python for exponentiation\n",
    "y_cube = my_x**3\n",
    "y_quart = my_x**4 \n",
    "\n",
    "# set our style\n",
    "plt.style.use('ggplot')\n",
    "axisLabelSize = 16\n",
    "titleSize = 20\n",
    "\n",
    "# make a big square figure\n",
    "plt.figure(figsize=(7, 7))\n",
    "\n",
    "# Now make each of the plots!\n",
    "\n",
    "# first is top left\n",
    "plt.subplot(221)                               \n",
    "plt.plot(my_x, y_lin, label = 'linear');  \n",
    "plt.xlabel('x', fontsize = axisLabelSize);           \n",
    "plt.ylabel('x', fontsize = axisLabelSize);\n",
    "plt.title('Linear', fontsize = titleSize);\n",
    "plt.text(-2, 2, 'axes panel 1')\n",
    "\n",
    "# then top right\n",
    "plt.subplot(222)                              \n",
    "plt.plot(my_x, y_quad, label = 'quadratic');\n",
    "plt.xlabel('x', fontsize = axisLabelSize);\n",
    "plt.ylabel('x squared', fontsize = axisLabelSize);\n",
    "plt.title('Quadradic', fontsize = titleSize,);\n",
    "plt.text(-1, 10, 'axes panel 2')\n",
    "\n",
    "# third is bottom left\n",
    "plt.subplot(223)\n",
    "plt.plot(my_x, y_cube, label = 'cubic');\n",
    "plt.xlabel('x', fontsize = axisLabelSize);\n",
    "plt.ylabel('x cubed', fontsize = axisLabelSize);\n",
    "plt.title('Cubic', fontsize = titleSize,);\n",
    "plt.text(-2, 40, 'axes panel 3')\n",
    "\n",
    "# then bottom right\n",
    "plt.subplot(224)\n",
    "plt.plot(my_x, y_quart, label = 'quartic');\n",
    "plt.xlabel('x', fontsize = axisLabelSize);\n",
    "plt.ylabel('x to the fourth', fontsize = axisLabelSize);\n",
    "plt.title('Quartic', fontsize = titleSize,);\n",
    "plt.text(-1, 150, 'axes panel 4')\n",
    "\n",
    "# finally, make everything automagically fit\n",
    "plt.tight_layout()"
   ]
  },
  {
   "cell_type": "markdown",
   "id": "8375490c",
   "metadata": {},
   "source": [
    "Note that we snuck in an additional useful goodie, which is the `plt.text()` function. It allows you to add text (in axis-axis coordinates) to your figure!"
   ]
  },
  {
   "cell_type": "markdown",
   "id": "b4f24706",
   "metadata": {},
   "source": [
    "So that does it for our overview of plotting the `pyplot` way! It may seem like a lot right now, but it's really not. Here's a handy summary."
   ]
  },
  {
   "cell_type": "markdown",
   "id": "0041b05a",
   "metadata": {},
   "source": [
    "### Summary of pyplot plotting functions\n",
    "\n",
    "Cast, in order of appearance\n",
    "(all are prefixed with `plt.` assuming you have imported `matplotlib.pyplot as plt`)\n",
    "\n",
    "| function | use |\n",
    "|:---|:---|\n",
    "| plot()    | make a plot  |\n",
    "| xlabel()   | add x label (can set font size)  |\n",
    "| ylabel()    | add y label (can set font size)  |\n",
    "| title()   | add a title (can set font size)  |\n",
    "| legend()   | add a legend (can set position)  |\n",
    "| style.use()    | use a plot style  |\n",
    "| style.available   | list available styles  |\n",
    "| subplot()   | make a plot matrix and set active plot  |\n",
    "| figure()    | make a figure (can specify size)  |\n",
    "| tight_layout()   | try to make everything fit neatly  |\n",
    "| text()   | add text in x,y plotting coordinates  |\n"
   ]
  },
  {
   "cell_type": "markdown",
   "id": "13d35cc5",
   "metadata": {},
   "source": [
    "Now we shall briefly look at plotting in \"object oriented\" style. "
   ]
  },
  {
   "cell_type": "markdown",
   "id": "346362c2",
   "metadata": {},
   "source": [
    "## Plotting using object oriented methods"
   ]
  },
  {
   "cell_type": "markdown",
   "id": "87b7b466",
   "metadata": {},
   "source": [
    "The difference between plotting using `pyplot` and using the object oriented approach is that, with the latter, we use the ability of two kinds of objects, **figures** and **axes**, to do stuff. The basic steps are:\n",
    "\n",
    "* Make a figure and one or more axes with plt.subplots() (note it's plural!!)\n",
    "* use the ability of an axes to do stuff like plotting\n",
    "* (sometimes) use the figure's ability to do stuff\n",
    "\n"
   ]
  },
  {
   "cell_type": "markdown",
   "id": "11e7655f",
   "metadata": {},
   "source": [
    "### A simple object oriented plot"
   ]
  },
  {
   "cell_type": "markdown",
   "id": "4af4a738",
   "metadata": {},
   "source": [
    "As usual, a simple example will make this more clear. Here's one lifted straight from the matplotlib documentation:"
   ]
  },
  {
   "cell_type": "code",
   "execution_count": null,
   "id": "b493cd09",
   "metadata": {},
   "outputs": [],
   "source": [
    "fig, ax = plt.subplots()  # Create a figure containing a single axes.\n",
    "ax.plot([1, 2, 3, 4], [1, 4, 2, 3]);  # Plot some data on the axes."
   ]
  },
  {
   "cell_type": "markdown",
   "id": "786f9ed4",
   "metadata": {},
   "source": [
    "The call to `plt.subplots()` made a figure with a single axes panel in it. It returned a \"handle\" to the figure named `fig`, and a handle to the axes panel named `ax`. \n",
    "\n",
    "We then used the axes panel's name, `ax`, to make the axes panel plot data in itself.\n",
    "\n",
    "Note: we could have named these anything we wanted – Velma & Daphnie, Shaggy & Scooby, Bugs & Daffy, whatever – but Python / Data Science convention is to name the figure \"fig\" and the axes \"ax\". Booorrriiing, but handy for writing code that others, including future you, can easily read."
   ]
  },
  {
   "cell_type": "markdown",
   "id": "0f1f2b49",
   "metadata": {},
   "source": [
    "### Adding stuff"
   ]
  },
  {
   "cell_type": "code",
   "execution_count": null,
   "id": "93953620",
   "metadata": {},
   "outputs": [],
   "source": [
    "x = np.linspace(0, 2, 100)  # Make new x values – again!\n",
    "\n",
    "'''\n",
    "Create the figure and the axes panel\n",
    "Note that even in the OO-style, we use `.pyplot.figure` to create these!\n",
    "'''\n",
    "\n",
    "# make the figure, fig, and the axes panel, ax\n",
    "fig, ax = plt.subplots()\n",
    "\n",
    "# now use ax's skills to plot stuff\n",
    "ax.plot(x, x, label='linear')        # Plot a line\n",
    "ax.plot(x, x**2, label='quadratic')  # and a parabola\n",
    "ax.plot(x, x**3, label='cubic')      # and a cubic curvy thingie\n",
    "\n",
    "# and now use ax's skills add stuff\n",
    "ax.set_xlabel('x values')            # Add an x-label\n",
    "ax.set_ylabel('f(x)')                # and a y-label\n",
    "ax.set_title(\"Plot made OO style!\")  # and a title\n",
    "ax.legend();                         # and, finally, a legend"
   ]
  },
  {
   "cell_type": "markdown",
   "id": "fe028df3",
   "metadata": {},
   "source": [
    "Notice that, *in terms of process*, the only really differences are:\n",
    "\n",
    "* we call `subplots()` (instead of `subplot()`), which makes\n",
    "    - a figure named \"fig\"\n",
    "    - an axes panel named \"ax\"\n",
    "* we plot with `ax.plot()` instead of `plt.plot()`\n",
    "* we use `ax.set_...` to do xlabel, ylabel, and title, and \n",
    "* `ax.legend()` to make the legend\n",
    "\n",
    "Happily, all of the `ax.` functions work just like their `plt.` counterparts."
   ]
  },
  {
   "cell_type": "markdown",
   "id": "2738a1eb",
   "metadata": {},
   "source": [
    "### OO Figures with multiple axis panels "
   ]
  },
  {
   "cell_type": "markdown",
   "id": "18dd3024",
   "metadata": {},
   "source": [
    "So if the OO method of making figures is pretty much the same as the pyplot method of making figures (except for some annoying differences in terminology), what's the point in having both? Why would you use one vs. the other? The short answer is that:\n",
    "\n",
    "* pyplot is easier – you can make simple figures with less code\n",
    "* the OO method is more powerful and flexible for working with complicated figures\n",
    "\n",
    "Let's return to our four panel figure example above for a quick illustration of this. We'll break up the code so it's a bit more digestable."
   ]
  },
  {
   "cell_type": "markdown",
   "id": "3b5e3878",
   "metadata": {},
   "source": [
    "First, we import stuff as always"
   ]
  },
  {
   "cell_type": "code",
   "execution_count": null,
   "id": "4fe2d488",
   "metadata": {},
   "outputs": [],
   "source": [
    "# make sure we have our tools\n",
    "import numpy as np                 \n",
    "import matplotlib.pyplot as plt "
   ]
  },
  {
   "cell_type": "markdown",
   "id": "7d0fab26",
   "metadata": {},
   "source": [
    "Then we'll compute the polynomials."
   ]
  },
  {
   "cell_type": "code",
   "execution_count": null,
   "id": "1fb9245f",
   "metadata": {},
   "outputs": [],
   "source": [
    "# compute our polynomials\n",
    "my_x = np.array([-4, -3, -2, -1, 0, 1, 2, 3, 4])\n",
    "y_lin = my_x\n",
    "y_quad = my_x**2  # ** is Python for exponentiation\n",
    "y_cube = my_x**3\n",
    "y_quart = my_x**4 "
   ]
  },
  {
   "cell_type": "markdown",
   "id": "b0551536",
   "metadata": {},
   "source": [
    "Next, we'll make sure we're stylin'"
   ]
  },
  {
   "cell_type": "code",
   "execution_count": null,
   "id": "21e5dfa6",
   "metadata": {},
   "outputs": [],
   "source": [
    "# set our style\n",
    "plt.style.use('ggplot')\n",
    "axisLabelSize = 16\n",
    "titleSize = 20"
   ]
  },
  {
   "cell_type": "markdown",
   "id": "fbbe708f",
   "metadata": {},
   "source": [
    "Now, here is where the difference begins! We will call `plt.subplots()` and specify the how many rows and columns of axes panels we want. We will still name our figure \"fig\". \n",
    "\n",
    "But instead of getting back a single handle to an axes panel that we would name \"ax\", we are going to get back an array of handles that, by convention, we'll name \"axs\"."
   ]
  },
  {
   "cell_type": "code",
   "execution_count": null,
   "id": "be481490",
   "metadata": {},
   "outputs": [],
   "source": [
    "# make a big square figure\n",
    "fig, axs = plt.subplots(ncols=2, nrows=2, figsize=(7, 7))"
   ]
  },
  {
   "cell_type": "markdown",
   "id": "c9c6b079",
   "metadata": {},
   "source": [
    "So what is \"axs\"? It is an array, like a numpy array, but contains the \"handles\" to each of our plots. Like this:\n",
    "\n",
    "[[upper left plot, upper right plot],\n",
    "\n",
    " [lower left plot, lower right plot]]\n",
    " \n",
    " So instead of saying `ax.plot()` like we did above, we would say `axs[0,0].plot()` to plot in the upper left axes panel, `axs[0,1].plot()` to plot in the upper right axes panel, etc."
   ]
  },
  {
   "cell_type": "markdown",
   "id": "cdf8eca0",
   "metadata": {},
   "source": [
    "So let's make the first subplot! (We have to re-make the figure or there will be nowhere for us to plot.)"
   ]
  },
  {
   "cell_type": "code",
   "execution_count": null,
   "id": "d3dbbe9d",
   "metadata": {},
   "outputs": [],
   "source": [
    "fig, axs = plt.subplots(ncols=2, nrows=2, figsize=(7, 7))\n",
    "\n",
    "axs[0,0].plot(my_x, y_lin, label = 'linear');  \n",
    "axs[0,0].set_xlabel('x', fontsize = axisLabelSize);           \n",
    "axs[0,0].set_ylabel('x', fontsize = axisLabelSize);\n",
    "axs[0,0].set_title('Linear', fontsize = titleSize);"
   ]
  },
  {
   "cell_type": "markdown",
   "id": "18d3114f",
   "metadata": {},
   "source": [
    "If you think about it, this actually more clear and straightforward than `plt.subplot(221)`, etc. `axs[0,0]` makes it immediately clear that your are plotting in the [first row, first column] of your figure."
   ]
  },
  {
   "cell_type": "markdown",
   "id": "f3e87da2",
   "metadata": {},
   "source": [
    "Now let's make the full figure:"
   ]
  },
  {
   "cell_type": "code",
   "execution_count": null,
   "id": "cbba03d4",
   "metadata": {
    "scrolled": false
   },
   "outputs": [],
   "source": [
    "# make the figure\n",
    "fig, axs = plt.subplots(ncols=2, nrows=2, figsize=(7, 7))\n",
    "\n",
    "# Now make each of the plots!\n",
    "\n",
    "# first is top left\n",
    "# plt.subplot(221) we don't neet this anymore\n",
    "axs[0,0].plot(my_x, y_lin, label = 'linear');  \n",
    "axs[0,0].set_xlabel('x', fontsize = axisLabelSize);           \n",
    "axs[0,0].set_ylabel('x', fontsize = axisLabelSize);\n",
    "axs[0,0].set_title('Linear', fontsize = titleSize);\n",
    "\n",
    "# then top right\n",
    "axs[0,1].plot(my_x, y_quad, label = 'quadratic');\n",
    "axs[0,1].set_xlabel('x', fontsize = axisLabelSize);\n",
    "axs[0,1].set_ylabel('x squared', fontsize = axisLabelSize);\n",
    "axs[0,1].set_title('Quadradic', fontsize = titleSize,);\n",
    "\n",
    "# third is bottom left\n",
    "axs[1,0].plot(my_x, y_cube, label = 'cubic');\n",
    "axs[1,0].set_xlabel('x', fontsize = axisLabelSize);\n",
    "axs[1,0].set_ylabel('x cubed', fontsize = axisLabelSize);\n",
    "axs[1,0].set_title('Cubic', fontsize = titleSize,);\n",
    "\n",
    "# then bottom right\n",
    "axs[1,1].plot(my_x, y_quart, label = 'quartic');\n",
    "axs[1,1].set_xlabel('x', fontsize = axisLabelSize);\n",
    "axs[1,1].set_ylabel('x to the fourth', fontsize = axisLabelSize);\n",
    "axs[1,1].set_title('Quartic', fontsize = titleSize,);\n",
    "\n",
    "# finally, make everything automagically fit\n",
    "fig.tight_layout()  # notice that now it's fig. instead of plt."
   ]
  },
  {
   "cell_type": "markdown",
   "id": "13b0a4ef",
   "metadata": {},
   "source": [
    "### Figure-level titles and labels"
   ]
  },
  {
   "cell_type": "markdown",
   "id": "efc9090c",
   "metadata": {},
   "source": [
    "And now we can use a little more of the power of the OO method to make the figure a bit more appealing. Notice that \n",
    "\n",
    "* the x axis labels are redundant, one overall label would be better\n",
    "* a global y axis label, like \"f(x)\" would be cool\n",
    "* the figure could use an overall title, like \"Polynomials!\" or something.\n",
    "\n",
    "We can do all these things because our figure named \"fig\" knows how to do stuff to! We'll use\n",
    "\n",
    "* fig.suptitle() to make a \"supra title\"\n",
    "* fig.supylabel() to make a \"supra y label\", and\n",
    "* fig.supxlabel() to make a \"supra x label\", and\n"
   ]
  },
  {
   "cell_type": "markdown",
   "id": "7df83671",
   "metadata": {},
   "source": [
    "We'll do this all in one cell of code, but the only thing that's different from above is the little chunk at line 20 where we do the figure level stuff – the \"supra stuff\"!"
   ]
  },
  {
   "cell_type": "code",
   "execution_count": null,
   "id": "0b316df5",
   "metadata": {},
   "outputs": [],
   "source": [
    "# make sure we have our tools\n",
    "import numpy as np                 \n",
    "import matplotlib.pyplot as plt \n",
    "\n",
    "# compute our polynomials\n",
    "my_x = np.array([-4, -3, -2, -1, 0, 1, 2, 3, 4])\n",
    "y_lin = my_x\n",
    "y_quad = my_x**2  # ** is Python for exponentiation\n",
    "y_cube = my_x**3\n",
    "y_quart = my_x**4 \n",
    "\n",
    "# set our style\n",
    "plt.style.use('ggplot')\n",
    "axisLabelSize = 16\n",
    "titleSize = 20\n",
    "\n",
    "# make a big square figure\n",
    "fig, axs = plt.subplots(ncols=2, nrows=2, figsize=(7, 7))\n",
    "\n",
    "# set the \"supra stuff\" for the figure\n",
    "fig.suptitle('Polynomials!', ha='left', fontsize=24)\n",
    "fig.supylabel('f(x)', fontsize=20)\n",
    "fig.supxlabel('x values', fontsize=20)\n",
    "\n",
    "# Now make each of the plots!\n",
    "\n",
    "# first is top left\n",
    "# plt.subplot(221) we don't neet this anymore\n",
    "axs[0,0].plot(my_x, y_lin, label = 'linear');  \n",
    "axs[0,0].set_ylabel('x', fontsize = axisLabelSize);\n",
    "axs[0,0].set_title('Linear', fontsize = titleSize);\n",
    "axs[0,0].text(-4, 3, 'axes panel 1, OOP style!')\n",
    "\n",
    "# then top right\n",
    "axs[0,1].plot(my_x, y_quad, label = 'quadratic');\n",
    "axs[0,1].set_ylabel('x squared', fontsize = axisLabelSize);\n",
    "axs[0,1].set_title('Quadradic', fontsize = titleSize,);\n",
    "\n",
    "# third is bottom left\n",
    "axs[1,0].plot(my_x, y_cube, label = 'cubic');\n",
    "axs[1,0].set_ylabel('x cubed', fontsize = axisLabelSize);\n",
    "axs[1,0].set_title('Cubic', fontsize = titleSize,);\n",
    "\n",
    "# then bottom right\n",
    "axs[1,1].plot(my_x, y_quart, label = 'quartic');\n",
    "axs[1,1].set_ylabel('x to the fourth', fontsize = axisLabelSize);\n",
    "axs[1,1].set_title('Quartic', fontsize = titleSize,);\n",
    "\n",
    "# finally, make everything automagically fit\n",
    "fig.tight_layout()"
   ]
  },
  {
   "cell_type": "markdown",
   "id": "bc0191af",
   "metadata": {},
   "source": [
    "And there we go! We can do all the same stuff using the OO approach to making plots, but allows us to \n",
    "\n",
    "* address the axes panels in a more transparent way – axs[row, col] vs. subplot(rcn)\n",
    "* put global labels and titles on our figures"
   ]
  },
  {
   "cell_type": "markdown",
   "id": "6ad412a8",
   "metadata": {},
   "source": [
    "## Which method do I choose?"
   ]
  },
  {
   "cell_type": "markdown",
   "id": "424a4569",
   "metadata": {},
   "source": [
    "It's largely up to you. A good rule of thumb is\n",
    "\n",
    "* use pyplot for simple, one panel figures\n",
    "* use the OO method for multi-panel figures\n",
    "\n",
    "That having been said, some people feel that \"If I *have* to use the OO method for some figures, why not just use it for *every* figure?\"\n",
    "\n",
    "It's your call!"
   ]
  }
 ],
 "metadata": {
  "kernelspec": {
   "display_name": "Python 3 (ipykernel)",
   "language": "python",
   "name": "python3"
  },
  "language_info": {
   "codemirror_mode": {
    "name": "ipython",
    "version": 3
   },
   "file_extension": ".py",
   "mimetype": "text/x-python",
   "name": "python",
   "nbconvert_exporter": "python",
   "pygments_lexer": "ipython3",
   "version": "3.9.7"
  }
 },
 "nbformat": 4,
 "nbformat_minor": 5
}
