{
 "cells": [
  {
   "cell_type": "markdown",
   "id": "9487f4ce",
   "metadata": {},
   "source": [
    "# code test for In-class exercise for tutorial012\n",
    "# Loops!"
   ]
  },
  {
   "cell_type": "code",
   "execution_count": 1,
   "id": "e19bc8f0",
   "metadata": {},
   "outputs": [],
   "source": [
    "import numpy as np\n",
    "import seaborn as sns"
   ]
  },
  {
   "cell_type": "markdown",
   "id": "31e53556",
   "metadata": {},
   "source": [
    "Load the raw data"
   ]
  },
  {
   "cell_type": "code",
   "execution_count": 2,
   "id": "efe1bffa",
   "metadata": {},
   "outputs": [],
   "source": [
    "# load data\n",
    "real_data = np.load(\"datasets/012_anxiety_data.npy\")"
   ]
  },
  {
   "cell_type": "code",
   "execution_count": 3,
   "id": "cd69ad31",
   "metadata": {},
   "outputs": [
    {
     "data": {
      "text/plain": [
       "<seaborn.axisgrid.FacetGrid at 0x7f87bc0fabe0>"
      ]
     },
     "execution_count": 3,
     "metadata": {},
     "output_type": "execute_result"
    },
    {
     "data": {
      "image/png": "[encoded data removed]",
      "text/plain": [
       "<Figure size 360x360 with 1 Axes>"
      ]
     },
     "metadata": {
      "needs_background": "light"
     },
     "output_type": "display_data"
    }
   ],
   "source": [
    "sns.displot(x=real_data, kind=\"hist\")"
   ]
  },
  {
   "cell_type": "code",
   "execution_count": 4,
   "id": "5d8339a3",
   "metadata": {},
   "outputs": [
    {
     "name": "stdout",
     "output_type": "stream",
     "text": [
      "The mean is  60.971860226088445  and the sd is  9.789934489177513\n"
     ]
    }
   ],
   "source": [
    "my_mean, my_sd = np.mean(real_data), np.std(real_data)\n",
    "print('The mean is ', my_mean, ' and the sd is ', my_sd)"
   ]
  },
  {
   "cell_type": "markdown",
   "id": "422e1b9f",
   "metadata": {},
   "source": [
    "Get size of data"
   ]
  },
  {
   "cell_type": "code",
   "execution_count": 5,
   "id": "7651d6b6",
   "metadata": {},
   "outputs": [
    {
     "data": {
      "text/plain": [
       "(100,)"
      ]
     },
     "execution_count": 5,
     "metadata": {},
     "output_type": "execute_result"
    }
   ],
   "source": [
    "data_size = real_data.shape\n",
    "data_size"
   ]
  },
  {
   "cell_type": "code",
   "execution_count": 6,
   "id": "a0778d79",
   "metadata": {},
   "outputs": [
    {
     "data": {
      "text/plain": [
       "100"
      ]
     },
     "execution_count": 6,
     "metadata": {},
     "output_type": "execute_result"
    }
   ],
   "source": [
    "n_samples = data_size[0]\n",
    "n_samples"
   ]
  },
  {
   "cell_type": "code",
   "execution_count": 7,
   "id": "7800e4d7",
   "metadata": {},
   "outputs": [
    {
     "name": "stdout",
     "output_type": "stream",
     "text": [
      "the se is  0.9789934489177513\n"
     ]
    }
   ],
   "source": [
    "my_se = my_sd / n_samples**0.5\n",
    "print('the se is ', my_se)"
   ]
  },
  {
   "cell_type": "markdown",
   "id": "611392bd",
   "metadata": {},
   "source": [
    "Now do the `for` loop simulation"
   ]
  },
  {
   "cell_type": "code",
   "execution_count": 8,
   "id": "8927ce38",
   "metadata": {},
   "outputs": [],
   "source": [
    "n_reps = 2000\n",
    "theo_mean, theo_sd = 50, 10\n",
    "mc_means = np.zeros(n_reps)\n",
    "\n",
    "for i in range(n_reps) :\n",
    "    mc_data = theo_mean + theo_sd*np.random.randn(n_samples)\n",
    "    mc_means[i] = np.mean(mc_data)"
   ]
  },
  {
   "cell_type": "markdown",
   "id": "a881befc",
   "metadata": {},
   "source": [
    "Look at our distribution of mean values."
   ]
  },
  {
   "cell_type": "code",
   "execution_count": 9,
   "id": "a18366b4",
   "metadata": {},
   "outputs": [
    {
     "data": {
      "text/plain": [
       "<seaborn.axisgrid.FacetGrid at 0x7f8798b719a0>"
      ]
     },
     "execution_count": 9,
     "metadata": {},
     "output_type": "execute_result"
    },
    {
     "data": {
      "image/png": "[encoded data removed]",
      "text/plain": [
       "<Figure size 360x360 with 1 Axes>"
      ]
     },
     "metadata": {
      "needs_background": "light"
     },
     "output_type": "display_data"
    }
   ],
   "source": [
    "sns.displot(x=mc_means, kind=\"kde\", fill=True)"
   ]
  },
  {
   "cell_type": "code",
   "execution_count": 10,
   "id": "6ba8ce37",
   "metadata": {},
   "outputs": [
    {
     "name": "stdout",
     "output_type": "stream",
     "text": [
      "The Monte Carlo meta-mean is  49.97376313010864 and the sd is  0.9971994369847644\n"
     ]
    }
   ],
   "source": [
    "mean_o_means, sd_o_means = np.mean(mc_means), np.std(mc_means)\n",
    "print('The Monte Carlo meta-mean is ', mean_o_means, \\\n",
    "      'and the sd is ', sd_o_means)"
   ]
  },
  {
   "cell_type": "markdown",
   "id": "76a501c5",
   "metadata": {},
   "source": [
    "Okay, so the means are way off. The mean of the data should be around 50 if the website is to be believed. Our obtained mean was a full standard deviation off and, crucially, it was around 10 standard errors off, which would basically never happend if our sample was drawn from a population with a mean of 50 and a standard deviation of 10."
   ]
  },
  {
   "cell_type": "markdown",
   "id": "8816d0fa",
   "metadata": {},
   "source": [
    "The standard deviation of the Monte Carlo distribution of means was nearly identical to the standard error computed using Central Limit Theorem (s/root(n). Cool!"
   ]
  },
  {
   "cell_type": "markdown",
   "id": "8d4c12fe",
   "metadata": {},
   "source": [
    "To simulate experiments from a universe in which the mean and sd correspond to our data is easy, we just have to adjust out loop a little bit."
   ]
  },
  {
   "cell_type": "code",
   "execution_count": 11,
   "id": "fabd41cf",
   "metadata": {},
   "outputs": [],
   "source": [
    "n_reps = 2000\n",
    "#theo_mean, theo_sd = 50, 10\n",
    "# We'll use the data mean and sd instead\n",
    "mc_means_data = np.zeros(n_reps)\n",
    "\n",
    "for i in range(n_reps) :\n",
    "    mc_data = my_mean + my_sd*np.random.randn(n_samples)\n",
    "    mc_means_data[i] = np.mean(mc_data)"
   ]
  },
  {
   "cell_type": "code",
   "execution_count": 12,
   "id": "d3bd5806",
   "metadata": {},
   "outputs": [
    {
     "data": {
      "text/plain": [
       "<seaborn.axisgrid.FacetGrid at 0x7f8798b796d0>"
      ]
     },
     "execution_count": 12,
     "metadata": {},
     "output_type": "execute_result"
    },
    {
     "data": {
      "image/png": "[encoded data removed]",
      "text/plain": [
       "<Figure size 360x360 with 1 Axes>"
      ]
     },
     "metadata": {
      "needs_background": "light"
     },
     "output_type": "display_data"
    }
   ],
   "source": [
    "sns.displot(x=mc_means, kind=\"kde\", fill=True)"
   ]
  },
  {
   "cell_type": "code",
   "execution_count": 23,
   "id": "4f09081c",
   "metadata": {
    "scrolled": true
   },
   "outputs": [
    {
     "data": {
      "text/plain": [
       "Text(0.5, 0, 'Anxiety')"
      ]
     },
     "execution_count": 23,
     "metadata": {},
     "output_type": "execute_result"
    },
    {
     "data": {
      "image/png": "[encoded data removed]",
      "text/plain": [
       "<Figure size 432x288 with 1 Axes>"
      ]
     },
     "metadata": {
      "needs_background": "light"
     },
     "output_type": "display_data"
    }
   ],
   "source": [
    "anax = sns.kdeplot(x=mc_means, fill=True);\n",
    "sns.kdeplot(x=mc_means_data, fill=True);\n",
    "anax.set_xlabel(\"Anxiety\");"
   ]
  },
  {
   "cell_type": "markdown",
   "id": "1869980a",
   "metadata": {},
   "source": [
    "**Ha!** Clearly, there is no way our data mean came from a population with a mean of 50 and a sd of 10!"
   ]
  },
  {
   "cell_type": "markdown",
   "id": "fbea056b",
   "metadata": {},
   "source": [
    "---"
   ]
  },
  {
   "cell_type": "markdown",
   "id": "3d501972",
   "metadata": {},
   "source": [
    "#### Das Boot!\n",
    "(for later)"
   ]
  },
  {
   "cell_type": "code",
   "execution_count": 14,
   "id": "c9cca204",
   "metadata": {},
   "outputs": [
    {
     "ename": "NameError",
     "evalue": "name 'data' is not defined",
     "output_type": "error",
     "traceback": [
      "\u001b[0;31m---------------------------------------------------------------------------\u001b[0m",
      "\u001b[0;31mNameError\u001b[0m                                 Traceback (most recent call last)",
      "\u001b[0;32m/var/folders/x5/p_sn_nnx3rx76dlnymqt2r400000gs/T/ipykernel_39605/687793857.py\u001b[0m in \u001b[0;36m<module>\u001b[0;34m\u001b[0m\n\u001b[0;32m----> 1\u001b[0;31m \u001b[0mbootdata\u001b[0m \u001b[0;34m=\u001b[0m \u001b[0mnp\u001b[0m\u001b[0;34m.\u001b[0m\u001b[0mrandom\u001b[0m\u001b[0;34m.\u001b[0m\u001b[0mchoice\u001b[0m\u001b[0;34m(\u001b[0m\u001b[0mdata\u001b[0m\u001b[0;34m,\u001b[0m \u001b[0msize\u001b[0m\u001b[0;34m=\u001b[0m\u001b[0mnSamples\u001b[0m\u001b[0;34m)\u001b[0m\u001b[0;34m\u001b[0m\u001b[0;34m\u001b[0m\u001b[0m\n\u001b[0m",
      "\u001b[0;31mNameError\u001b[0m: name 'data' is not defined"
     ]
    }
   ],
   "source": [
    "bootdata = np.random.choice(data, size=nSamples)"
   ]
  },
  {
   "cell_type": "code",
   "execution_count": null,
   "id": "82c38529",
   "metadata": {},
   "outputs": [],
   "source": [
    "bootdata.mean()"
   ]
  },
  {
   "cell_type": "code",
   "execution_count": null,
   "id": "b16dbecc",
   "metadata": {},
   "outputs": [],
   "source": []
  }
 ],
 "metadata": {
  "kernelspec": {
   "display_name": "Python 3.8.8 ('base')",
   "language": "python",
   "name": "python388jvsc74a57bd0cd78fef2128015050713e82ca51c6520b11aee7c9ee8df750520bbbc7384cbaa"
  },
  "language_info": {
   "codemirror_mode": {
    "name": "ipython",
    "version": 3
   },
   "file_extension": ".py",
   "mimetype": "text/x-python",
   "name": "python",
   "nbconvert_exporter": "python",
   "pygments_lexer": "ipython3",
   "version": "3.8.12"
  }
 },
 "nbformat": 4,
 "nbformat_minor": 5
}
