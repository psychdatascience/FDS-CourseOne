{
 "cells": [
  {
   "cell_type": "markdown",
   "id": "bb0b3730",
   "metadata": {},
   "source": [
    "# Exercise for Tutorial 14 "
   ]
  },
  {
   "cell_type": "markdown",
   "id": "89d9edb8",
   "metadata": {},
   "source": [
    "### Learn how to understand and describe code with words!\n",
    "\n",
    "So far we have read text that describes code. We have looked at code and tried to understand what it does, with the help of a verbal description (in most cases).\n",
    "\n",
    "Here after, you will be asked to look at a block of code (that you might or might have not seen before) and describe in words what the code is doing.\n",
    "\n",
    "You are welcome to look at the documentation of the methods, functions and libraries used but it would be asked to not use Google the answer in this case (besides using Google to find the documentation of the function on the python libraries web pages)."
   ]
  },
  {
   "cell_type": "code",
   "execution_count": null,
   "id": "b3a9ccda",
   "metadata": {},
   "outputs": [],
   "source": [
    "import numpy as np\n",
    "import matplotlib.pyplot as plt"
   ]
  },
  {
   "cell_type": "code",
   "execution_count": null,
   "id": "e38d921f",
   "metadata": {},
   "outputs": [],
   "source": [
    "from  numpy.random import multivariate_normal\n",
    "mu1 = 0;\n",
    "mu2 = 0;\n",
    "var1 = 1;\n",
    "var2 = 1;\n",
    "cov = 0.9;\n",
    "cov_m = [[var1, cov],\n",
    "         [cov, var2]]\n",
    "data = multivariate_normal([mu1, mu2], cov_m, size=1000)\n",
    "plt.scatter(data[:,0], data[:,1])"
   ]
  },
  {
   "cell_type": "markdown",
   "id": "fea66ded",
   "metadata": {},
   "source": [
    "Explain in your words what the code is doing. Do that by commenting each line of the code. The description should cober each parameter (say the variables initialized at the beginning) but also each operation in the code, for example the calls to a function should be described as well and the indexing operations. For the indexing please make sure to be explicit about which dimensions of the array are being addressed and also report the full dimensions of the array as you describe the indexing operation. \n",
    "\n",
    "After thant, please write 1-3 pragraphs of description (max) of what the code is meant to do what functions it uses."
   ]
  },
  {
   "cell_type": "markdown",
   "id": "0bb482e0",
   "metadata": {},
   "source": []
  },
  {
   "cell_type": "markdown",
   "id": "ad84c94e",
   "metadata": {},
   "source": [
    "### Create a series of correlated datasets using `for loops`\n",
    "\n",
    "The code below, shows how to create and plot a series of correlated datasets."
   ]
  },
  {
   "cell_type": "code",
   "execution_count": null,
   "id": "cbb1c1c9",
   "metadata": {},
   "outputs": [],
   "source": [
    "counter = 0;\n",
    "m = 5 #number of datasets\n",
    "n = 100\n",
    "scaling = 0.2\n",
    "while counter < m :\n",
    "    y = np.random.randn(n,1)\n",
    "    x = y + scaling*np.random.randn(n,1)\n",
    "    fig = plt.figure(facecolor='white')\n",
    "    ax = plt.axes(frameon=False)\n",
    "    #ax.axes.get_yaxis().set_visible(False)\n",
    "    plt.scatter(x, y)\n",
    "    plt.show()    \n",
    "    print(\"We are plotting because we are INSIDE the while loop.\")\n",
    "    plt.pause(0.05)\n",
    "    counter = counter + 1\n",
    "else:\n",
    "    print(\"We are NOT plotting because we are OUTSIDE the while loop.\")"
   ]
  },
  {
   "cell_type": "markdown",
   "id": "c80f565a",
   "metadata": {},
   "source": [
    "You are tasked to write similar code (that generates and plots correlated datasets). But, your code should use a `for` loop instead of the `while` loop shown in the example."
   ]
  },
  {
   "cell_type": "code",
   "execution_count": null,
   "id": "b15b6801",
   "metadata": {},
   "outputs": [],
   "source": []
  },
  {
   "cell_type": "markdown",
   "id": "21835fa1",
   "metadata": {},
   "source": [
    "### Make pretty plots\n",
    "\n",
    "A majority of data science tasks, will not be a simple plug and play of previously learned tools and code snippet. Instead, they will require learning new skills on the job. Here we ask you to make a few plots based on the previously learned functions. Yet, we ask that you go a little beyond that, by finding ways to improve the visuals of the plots. You can do this by learning about the functionality of `scatter` and `plot` online.\n",
    "\n",
    "What does it mean to improve the visuals of the plots? Improving the visuals means that the plots look simple, slick, elegant the colors are not the default but are personalized and well chosen. You are free to do the customization of the plots as you prefer, have fun with it and see what comes out of the fun! \n",
    "\n",
    "This is the plot we ask you to do: Use [plt.subplot](https://matplotlib.org/3.5.1/api/_as_gen/matplotlib.pyplot.subplots.html) to make \n",
    "  - a 3 x 3 array of scatter plots of negatively correlated datasets\n",
    "  - the correlated datasets should have \n",
    "     - Dataset 1: mu = 1, variance = 1\n",
    "     - Dataset 2: mu = 1, variance = 3\n",
    "     - covariances should be between 0.3 and 0.9\n",
    "  - Make the plots as pretty as possible, for example:\n",
    "     - change the colors\n",
    "     - Removing any superfluous visuals, such as boxes aroung the axis (good plots only have two axis not 4!)\n",
    "     - Add labels\n",
    "     - Add titles\n",
    "     - etc"
   ]
  },
  {
   "cell_type": "code",
   "execution_count": null,
   "id": "07807a4f",
   "metadata": {},
   "outputs": [],
   "source": []
  }
 ],
 "metadata": {
  "kernelspec": {
   "display_name": "Python 3 (ipykernel)",
   "language": "python",
   "name": "python3"
  },
  "language_info": {
   "codemirror_mode": {
    "name": "ipython",
    "version": 3
   },
   "file_extension": ".py",
   "mimetype": "text/x-python",
   "name": "python",
   "nbconvert_exporter": "python",
   "pygments_lexer": "ipython3",
   "version": "3.9.7"
  }
 },
 "nbformat": 4,
 "nbformat_minor": 5
}
