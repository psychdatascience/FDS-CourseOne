{
 "cells": [
  {
   "cell_type": "markdown",
   "id": "2dad66d6",
   "metadata": {},
   "source": [
    "# In class exercise for Tutorial 13: Looping back and forward a little"
   ]
  },
  {
   "cell_type": "markdown",
   "id": "b4a317df",
   "metadata": {},
   "source": [
    "### Set up your GitHub Repo for the exercise\n",
    "\n",
    "For this exercise we will ask you to go back to the beginning of the semester and use GitHub. We will also practice with loops and if statements.\n",
    "\n",
    "To get started follow these instructions:\n",
    "\n",
    "  (1) Create a new GitHub repository under your account on GitHub.com called 'FDS-2022-Exercises' \n",
    "  \n",
    "  (2) Clone the repository locally on your computer. Say under your local 'git' folder \n",
    "  \n",
    "  (3) Initialize it as your like it (add a readme file, a license, etc)\n",
    "  \n",
    "  (4) Create a new file inside the repository locally: tutorial13Exercise_<YourInitialshere>.ipynb\n",
    "  \n",
    "  (5) Add the file to the Gitreposiory \n",
    "  \n",
    "  (6) Commit the to the repository and push it to the cloud.\n",
    "  \n",
    "  (7) Use the above jupyter notebook and the repository you set up to complete the exercises below.\n",
    "\n",
    "The PDF submitted on canvas of tutorial13Exercise_YourInitials.ipynb will need to report the URL of the jupyter notebook from your repository on GitHub.com. You can add the URL in the following cell."
   ]
  },
  {
   "cell_type": "markdown",
   "id": "0cc15026",
   "metadata": {},
   "source": [
    "URL of your tutorial13Exercise on GitHub:"
   ]
  },
  {
   "cell_type": "markdown",
   "id": "8bb9ed54",
   "metadata": {},
   "source": [
    "### Simulating data\n",
    "\n",
    "Create 5 distributions of 1,000 normally distributed random data with the following characteristics:\n",
    " - Dist 1: mean = 5 SD = 2\n",
    " - Dist 2: mean = 7 SD = 4\n",
    " - Dist 3: mean = 9 SD = 6\n",
    " - Dist 4: mean = 11 SD = 8\n",
    " - Dist 5: mean = 13 SD = 10\n",
    " \n",
    " Use for loops to generate the distributions"
   ]
  },
  {
   "cell_type": "code",
   "execution_count": null,
   "id": "86727af4",
   "metadata": {},
   "outputs": [],
   "source": [
    "# import what you need for numerical arrays and pretty plots\n",
    "import numpy as np\n",
    "import seaborn as sns\n",
    "import matplotlib.pyplot as plt"
   ]
  },
  {
   "cell_type": "code",
   "execution_count": null,
   "id": "a3d4a09f",
   "metadata": {},
   "outputs": [],
   "source": [
    "# create arrays for your means and SDs values\n",
    "mu = np.arange(5,15,2)\n",
    "sd = np.arange(2,12,2)"
   ]
  },
  {
   "cell_type": "code",
   "execution_count": null,
   "id": "8234949a",
   "metadata": {},
   "outputs": [],
   "source": [
    "# create the distributions and store them \n",
    "# into a single numpy array 'dist'\n",
    "n = 1000\n",
    "dist = np.zeros([len(mu),n])\n",
    "for i in np.arange(0,len(mu)) :\n",
    "  dist[i,:] = mu[i] + sd[i]*np.random.randn(1,n);"
   ]
  },
  {
   "cell_type": "code",
   "execution_count": null,
   "id": "d0415979",
   "metadata": {},
   "outputs": [],
   "source": [
    "# Plot the KDE plots of the distributions in a single figure\n",
    "for i in np.arange(0,len(mu)) :\n",
    "  sns.kdeplot(dist[i,:], \n",
    "              fill=True, \n",
    "              common_norm=False, \n",
    "              palette=\"crest\",\n",
    "              alpha=.25, \n",
    "              linewidth=0,);"
   ]
  },
  {
   "cell_type": "code",
   "execution_count": null,
   "id": "27f54001",
   "metadata": {},
   "outputs": [],
   "source": [
    "# Plot the KDE plots of the distributions in multiple subplots\n",
    "#\n",
    "# hint: you might need to use zip() to return two counters as a tuple\n",
    "#       zip(my_index_vals, my_axis_vals)\n",
    "#       https://docs.python.org/3/library/functions.html#zip\n",
    "\n",
    "fig, axs = plt.subplots(ncols=1, nrows=5)\n",
    "\n",
    "for i, ax in zip(np.arange(0,len(mu)), axs.flat):\n",
    "    sns.kdeplot(dist[i,:], \n",
    "              fill=True, \n",
    "              common_norm=False, \n",
    "              palette=\"crest\",\n",
    "              alpha=.25, \n",
    "              linewidth=0, \n",
    "              ax=ax);"
   ]
  },
  {
   "cell_type": "markdown",
   "id": "d4b46e66",
   "metadata": {},
   "source": [
    "Explain why the single axis plot (first one above) and the multiple axis plot (the one using subplot) look so different. Which one is more informative and why?"
   ]
  },
  {
   "cell_type": "markdown",
   "id": "b8964273",
   "metadata": {},
   "source": [
    "#### Correlated scatter plots using a while loop\n",
    "\n",
    "Create 5 different scatterplots of correlated data (fine data points per plot would be fine). To do so you can create randn. You must use a while loop to create the plots sequentially."
   ]
  },
  {
   "cell_type": "code",
   "execution_count": null,
   "id": "54b0eab7",
   "metadata": {},
   "outputs": [],
   "source": [
    "# the plt.pause(0.05) might be of help \n",
    "import numpy as np\n",
    "import matplotlib.pyplot as plt\n",
    "\n",
    "counter = 0\n",
    "while counter < 5 :\n",
    "    y = np.random.randn(100,1)\n",
    "    x = y+np.random.randn(100,1)\n",
    "    plt.scatter(x, y)\n",
    "    plt.show()    \n",
    "    print(\"We are plotting because we are INSIDE the while loop.\")\n",
    "    plt.pause(0.05)\n",
    "    counter = counter + 1\n",
    "else:\n",
    "    print(\"We are NOT plotting because we are OUTSIDE the while loop.\")"
   ]
  }
 ],
 "metadata": {
  "kernelspec": {
   "display_name": "Python 3 (ipykernel)",
   "language": "python",
   "name": "python3"
  },
  "language_info": {
   "codemirror_mode": {
    "name": "ipython",
    "version": 3
   },
   "file_extension": ".py",
   "mimetype": "text/x-python",
   "name": "python",
   "nbconvert_exporter": "python",
   "pygments_lexer": "ipython3",
   "version": "3.9.7"
  }
 },
 "nbformat": 4,
 "nbformat_minor": 5
}
