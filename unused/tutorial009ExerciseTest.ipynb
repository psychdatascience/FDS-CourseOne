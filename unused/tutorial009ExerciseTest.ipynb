{
 "cells": [
  {
   "cell_type": "markdown",
   "id": "aa0feb63",
   "metadata": {},
   "source": [
    "## Exercise test for tutorial 009 - data wrangling preliminaries"
   ]
  },
  {
   "cell_type": "code",
   "execution_count": null,
   "id": "9e8c2435",
   "metadata": {},
   "outputs": [],
   "source": [
    "### Python lists"
   ]
  },
  {
   "cell_type": "code",
   "execution_count": null,
   "id": "9bec7f4f",
   "metadata": {},
   "outputs": [],
   "source": [
    "ml = (1, 3, 5, 7, 9)"
   ]
  },
  {
   "cell_type": "code",
   "execution_count": null,
   "id": "038aae58",
   "metadata": {},
   "outputs": [],
   "source": [
    "ml[0]"
   ]
  },
  {
   "cell_type": "code",
   "execution_count": null,
   "id": "fbd5b97f",
   "metadata": {},
   "outputs": [],
   "source": [
    "ml[-1]"
   ]
  },
  {
   "cell_type": "code",
   "execution_count": null,
   "id": "67f24757",
   "metadata": {},
   "outputs": [],
   "source": [
    "ml[0:-2]"
   ]
  },
  {
   "cell_type": "code",
   "execution_count": null,
   "id": "f11b03c2",
   "metadata": {},
   "outputs": [],
   "source": [
    "ml[:-2]"
   ]
  },
  {
   "cell_type": "code",
   "execution_count": null,
   "id": "aee1b237",
   "metadata": {},
   "outputs": [],
   "source": [
    "ml[0::2]"
   ]
  },
  {
   "cell_type": "code",
   "execution_count": null,
   "id": "c07a0d24",
   "metadata": {},
   "outputs": [],
   "source": [
    "import numpy as np"
   ]
  },
  {
   "cell_type": "markdown",
   "id": "9de2deb9",
   "metadata": {},
   "source": [
    "### Numpy array"
   ]
  },
  {
   "cell_type": "markdown",
   "id": "2a57d6c5",
   "metadata": {},
   "source": [
    "#### Read the first data array to play with"
   ]
  },
  {
   "cell_type": "code",
   "execution_count": null,
   "id": "547068a2",
   "metadata": {},
   "outputs": [],
   "source": [
    "dff = np.load('datasets/009ExerciseFile1.npy')"
   ]
  },
  {
   "cell_type": "code",
   "execution_count": null,
   "id": "0874e3f6",
   "metadata": {},
   "outputs": [],
   "source": [
    "dff.shape"
   ]
  },
  {
   "cell_type": "code",
   "execution_count": null,
   "id": "a458502a",
   "metadata": {},
   "outputs": [],
   "source": [
    "dff"
   ]
  },
  {
   "cell_type": "code",
   "execution_count": null,
   "id": "de2aeb2c",
   "metadata": {},
   "outputs": [],
   "source": [
    "dff[-1,:]"
   ]
  },
  {
   "cell_type": "code",
   "execution_count": null,
   "id": "733829a1",
   "metadata": {},
   "outputs": [],
   "source": [
    "dff[:,1]"
   ]
  },
  {
   "cell_type": "code",
   "execution_count": null,
   "id": "cc4be245",
   "metadata": {},
   "outputs": [],
   "source": [
    "dff = np.load('datasets/Ex009File1.npy')"
   ]
  },
  {
   "cell_type": "code",
   "execution_count": null,
   "id": "81ecd538",
   "metadata": {
    "scrolled": true
   },
   "outputs": [],
   "source": [
    "dff[::2, 0:2]"
   ]
  },
  {
   "cell_type": "code",
   "execution_count": null,
   "id": "2364d276",
   "metadata": {},
   "outputs": [],
   "source": [
    "a = dff[:,1]"
   ]
  },
  {
   "cell_type": "code",
   "execution_count": null,
   "id": "3e72b78a",
   "metadata": {},
   "outputs": [],
   "source": [
    "type(a)"
   ]
  },
  {
   "cell_type": "code",
   "execution_count": null,
   "id": "6741771a",
   "metadata": {},
   "outputs": [],
   "source": [
    "a.shape"
   ]
  },
  {
   "cell_type": "code",
   "execution_count": null,
   "id": "981247d5",
   "metadata": {},
   "outputs": [],
   "source": [
    "a = a*2"
   ]
  },
  {
   "cell_type": "code",
   "execution_count": null,
   "id": "4c12140c",
   "metadata": {},
   "outputs": [],
   "source": [
    "a"
   ]
  },
  {
   "cell_type": "code",
   "execution_count": null,
   "id": "14a9c55c",
   "metadata": {},
   "outputs": [],
   "source": [
    "b = dff[:,-1]"
   ]
  },
  {
   "cell_type": "code",
   "execution_count": null,
   "id": "f22a8aab",
   "metadata": {},
   "outputs": [],
   "source": [
    "b"
   ]
  },
  {
   "cell_type": "code",
   "execution_count": null,
   "id": "1180a383",
   "metadata": {},
   "outputs": [],
   "source": [
    "c = a*b"
   ]
  },
  {
   "cell_type": "code",
   "execution_count": null,
   "id": "04de649d",
   "metadata": {
    "scrolled": true
   },
   "outputs": [],
   "source": [
    "c"
   ]
  },
  {
   "cell_type": "code",
   "execution_count": null,
   "id": "a17af31a",
   "metadata": {},
   "outputs": [],
   "source": [
    "c.shape"
   ]
  },
  {
   "cell_type": "code",
   "execution_count": null,
   "id": "3a8f8326",
   "metadata": {},
   "outputs": [],
   "source": [
    "type(c)"
   ]
  },
  {
   "cell_type": "code",
   "execution_count": null,
   "id": "e46ab1bf",
   "metadata": {
    "scrolled": true
   },
   "outputs": [],
   "source": [
    "c = c[:, np.newaxis]"
   ]
  },
  {
   "cell_type": "code",
   "execution_count": null,
   "id": "3b9da66d",
   "metadata": {},
   "outputs": [],
   "source": [
    "c.shape"
   ]
  },
  {
   "cell_type": "markdown",
   "id": "73537494",
   "metadata": {},
   "source": [
    "#### Read the second array"
   ]
  },
  {
   "cell_type": "code",
   "execution_count": null,
   "id": "657693f4",
   "metadata": {},
   "outputs": [],
   "source": [
    "import numpy as np\n",
    "import matplotlib.pyplot as plt"
   ]
  },
  {
   "cell_type": "code",
   "execution_count": null,
   "id": "fcbb1d54",
   "metadata": {},
   "outputs": [],
   "source": [
    "data = np.load('datasets/009ExerciseFile2.npy')"
   ]
  },
  {
   "cell_type": "code",
   "execution_count": null,
   "id": "fc374047",
   "metadata": {},
   "outputs": [],
   "source": [
    "plt.plot(data[:,4])"
   ]
  },
  {
   "cell_type": "code",
   "execution_count": null,
   "id": "d3c73623",
   "metadata": {
    "scrolled": true
   },
   "outputs": [],
   "source": [
    "plt.plot(data[:,0:10]);"
   ]
  },
  {
   "cell_type": "code",
   "execution_count": null,
   "id": "374ddd33",
   "metadata": {
    "scrolled": true
   },
   "outputs": [],
   "source": [
    "plt.plot(data.mean(1));"
   ]
  },
  {
   "cell_type": "code",
   "execution_count": null,
   "id": "77c67d10",
   "metadata": {},
   "outputs": [],
   "source": [
    "plt.imshow(data, cmap=\"hot\")"
   ]
  },
  {
   "cell_type": "code",
   "execution_count": null,
   "id": "3e9a1263",
   "metadata": {},
   "outputs": [],
   "source": []
  }
 ],
 "metadata": {
  "kernelspec": {
   "display_name": "Python 3 (ipykernel)",
   "language": "python",
   "name": "python3"
  },
  "language_info": {
   "codemirror_mode": {
    "name": "ipython",
    "version": 3
   },
   "file_extension": ".py",
   "mimetype": "text/x-python",
   "name": "python",
   "nbconvert_exporter": "python",
   "pygments_lexer": "ipython3",
   "version": "3.9.7"
  }
 },
 "nbformat": 4,
 "nbformat_minor": 5
}
